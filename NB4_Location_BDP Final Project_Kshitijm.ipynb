{
 "cells": [
  {
   "cell_type": "markdown",
   "id": "ac0ef949-10cf-4d41-9f62-86f9024085d4",
   "metadata": {},
   "source": [
    "## Notebook 4 - Location Analysis"
   ]
  },
  {
   "cell_type": "code",
   "execution_count": 1,
   "id": "6e40c91c-8c51-4c06-9b4b-a8f2e62cb721",
   "metadata": {},
   "outputs": [
    {
     "name": "stdout",
     "output_type": "stream",
     "text": [
      "3.8.15 | packaged by conda-forge | (default, Nov 22 2022, 08:46:39) \n",
      "[GCC 10.4.0]\n",
      "3.1.3\n"
     ]
    }
   ],
   "source": [
    "import sys\n",
    "print(sys.version)\n",
    "print(spark.version)"
   ]
  },
  {
   "cell_type": "code",
   "execution_count": 2,
   "id": "e53028db-b351-4cd7-ab10-827d9f9abafc",
   "metadata": {},
   "outputs": [],
   "source": [
    "import pandas as pd\n",
    "import numpy as np\n",
    "pd.set_option('display.max_colwidth', None)\n",
    "pd.reset_option('display.max_rows')\n",
    "from itertools import compress \n",
    "from pyspark.sql.functions import *\n",
    "from pyspark.sql.types import *\n",
    "import seaborn as sns\n",
    "import matplotlib.pyplot as plt\n",
    "warnings.filterwarnings(action='ignore')"
   ]
  },
  {
   "cell_type": "code",
   "execution_count": 4,
   "id": "95842997-8804-4204-8a31-fe2d2d392582",
   "metadata": {},
   "outputs": [],
   "source": [
    "import re"
   ]
  },
  {
   "cell_type": "code",
   "execution_count": 3,
   "id": "bb532e0c-caae-4c85-a3b6-23d2e6ebf289",
   "metadata": {},
   "outputs": [],
   "source": [
    "import seaborn as sns\n",
    "import matplotlib.pyplot as plt\n",
    "%config InlineBackend.figure_format = 'svg'"
   ]
  },
  {
   "cell_type": "code",
   "execution_count": 6,
   "id": "4fd0ee04-b91e-45f5-a184-dec5b0bd416e",
   "metadata": {},
   "outputs": [],
   "source": [
    "#pip install -U regex"
   ]
  },
  {
   "cell_type": "code",
   "execution_count": 5,
   "id": "f77729c5-f7da-4e59-9d85-f919c05b390e",
   "metadata": {},
   "outputs": [],
   "source": [
    "pd.set_option(\"max_colwidth\", 100)"
   ]
  },
  {
   "cell_type": "code",
   "execution_count": 6,
   "id": "2ee08f51-a4fe-4613-b5e6-e14d532cb1c8",
   "metadata": {},
   "outputs": [],
   "source": [
    "from google.cloud import storage\n",
    "# !pip install gcsfs --upgrade"
   ]
  },
  {
   "cell_type": "code",
   "execution_count": 8,
   "id": "8339fd22-12cb-4970-9e6e-05ff30c9e55f",
   "metadata": {},
   "outputs": [
    {
     "name": "stdout",
     "output_type": "stream",
     "text": [
      "Collecting a-world-of-countries\n",
      "  Downloading a_world_of_countries-1.0.0-py3-none-any.whl (34 kB)\n",
      "Collecting pydash\n",
      "  Downloading pydash-6.0.2-py3-none-any.whl (85 kB)\n",
      "\u001b[2K     \u001b[90m━━━━━━━━━━━━━━━━━━━━━━━━━━━━━━━━━━━━━━━━\u001b[0m \u001b[32m85.4/85.4 kB\u001b[0m \u001b[31m4.6 MB/s\u001b[0m eta \u001b[36m0:00:00\u001b[0m\n",
      "\u001b[?25hInstalling collected packages: pydash, a-world-of-countries\n",
      "Successfully installed a-world-of-countries-1.0.0 pydash-6.0.2\n",
      "\u001b[33mWARNING: Running pip as the 'root' user can result in broken permissions and conflicting behaviour with the system package manager. It is recommended to use a virtual environment instead: https://pip.pypa.io/warnings/venv\u001b[0m\u001b[33m\n",
      "\u001b[0mNote: you may need to restart the kernel to use updated packages.\n"
     ]
    }
   ],
   "source": [
    "pip install a-world-of-countries"
   ]
  },
  {
   "cell_type": "code",
   "execution_count": 9,
   "id": "6c7fa1d7-617f-4a28-a2d1-da217922f16a",
   "metadata": {},
   "outputs": [],
   "source": [
    "import awoc\n",
    "my_world = awoc.AWOC()"
   ]
  },
  {
   "cell_type": "markdown",
   "id": "51e4207f-d6a0-4738-9826-c5cffa716816",
   "metadata": {},
   "source": [
    "### Setting Up Helper Functions"
   ]
  },
  {
   "cell_type": "code",
   "execution_count": 10,
   "id": "ef2cbb3a-bdd6-406b-9614-32c1fab5415c",
   "metadata": {},
   "outputs": [],
   "source": [
    "spark.conf.set(\"spark.sql.repl.eagerEval.enabled\",True)"
   ]
  },
  {
   "cell_type": "code",
   "execution_count": 11,
   "id": "0766fa35-95d6-4904-9909-bc9d05841345",
   "metadata": {},
   "outputs": [
    {
     "name": "stderr",
     "output_type": "stream",
     "text": [
      "                                                                                \r"
     ]
    }
   ],
   "source": [
    "twitter_df5= spark.read.parquet('gs://msca-bdp-students-bucket/shared_data/kshitijm/Final_Project-FiltData3')"
   ]
  },
  {
   "cell_type": "code",
   "execution_count": 12,
   "id": "14b1816f-a4f8-42f4-9fad-35c7dae1ddb2",
   "metadata": {},
   "outputs": [
    {
     "name": "stderr",
     "output_type": "stream",
     "text": [
      "23/03/10 14:52:48 WARN org.apache.spark.sql.catalyst.util.package: Truncated the string representation of a plan since it was too large. This behavior can be adjusted by setting 'spark.sql.debug.maxToStringFields'.\n",
      "                                                                                \r"
     ]
    },
    {
     "data": {
      "text/html": [
       "<table border='1'>\n",
       "<tr><th>id</th><th>created_at</th><th>text</th><th>tweet_text</th><th>tweet_coordinates</th><th>tweet_country</th><th>tweet_country_code</th><th>tweet_place_full_name</th><th>tweet_place_type</th><th>is_reply</th><th>is_quote</th><th>is_retweeted</th><th>reply_count</th><th>quote_count</th><th>retweet_count</th><th>favorite_count</th><th>rp_original_id</th><th>rp_user_id</th><th>rp_original_user</th><th>qu_original_id</th><th>rt_original_id</th><th>rt_original_user</th><th>account_id</th><th>account_name</th><th>account_description</th><th>account_location</th><th>is_verified</th><th>total_followers</th><th>total_friends</th><th>total_listed</th><th>total_favourites</th><th>total_tweets</th><th>account_created_at</th><th>account_profile_picture</th><th>hashtags</th><th>tweet_type</th></tr>\n",
       "<tr><td>1566378682318462976</td><td>Sun Sep 04 10:52:...</td><td>RT @C_A_Graham: H...</td><td>had another conve...</td><td>null</td><td>null</td><td>null</td><td>null</td><td>null</td><td>false</td><td>false</td><td>RT</td><td>0</td><td>0</td><td>0</td><td>0</td><td>null</td><td>null</td><td>null</td><td>null</td><td>1566034383559065601</td><td>C_A_Graham</td><td>483864332</td><td>erin_gilbey</td><td>Storyteller and 1...</td><td>Birmingham, England</td><td>false</td><td>442</td><td>601</td><td>8</td><td>15433</td><td>8431</td><td>Sun Feb 05 13:37:...</td><td>https://pbs.twimg...</td><td>[]</td><td>retweet</td></tr>\n",
       "<tr><td>1566378688698097664</td><td>Sun Sep 04 10:52:...</td><td>RT @Oludeewon: I ...</td><td>i hope you have s...</td><td>null</td><td>null</td><td>null</td><td>null</td><td>null</td><td>false</td><td>false</td><td>RT</td><td>0</td><td>0</td><td>0</td><td>0</td><td>null</td><td>null</td><td>null</td><td>null</td><td>1566165377796771840</td><td>Oludeewon</td><td>984182548791164928</td><td>Odeshiye</td><td>♎\n",
       "...So A Child M...</td><td>Ghana</td><td>false</td><td>4902</td><td>4613</td><td>3</td><td>149571</td><td>92052</td><td>Wed Apr 11 21:32:...</td><td>https://pbs.twimg...</td><td>[]</td><td>retweet</td></tr>\n",
       "<tr><td>1566378715709427719</td><td>Sun Sep 04 10:52:...</td><td>RT @JackPosobiec:...</td><td>breaking: @trinit...</td><td>null</td><td>null</td><td>null</td><td>null</td><td>null</td><td>false</td><td>false</td><td>RT</td><td>0</td><td>0</td><td>0</td><td>0</td><td>null</td><td>null</td><td>null</td><td>null</td><td>1565431877460189189</td><td>JackPosobiec</td><td>1558859689789644800</td><td>EuroAmerican87</td><td>American by birth...</td><td>Anywhere but here...</td><td>false</td><td>6</td><td>34</td><td>1</td><td>50</td><td>89</td><td>Sun Aug 14 16:54:...</td><td>https://pbs.twimg...</td><td>[]</td><td>retweet</td></tr>\n",
       "<tr><td>1566378716887916546</td><td>Sun Sep 04 10:52:...</td><td>RT @amishra77: Th...</td><td>the appalling con...</td><td>null</td><td>null</td><td>null</td><td>null</td><td>null</td><td>false</td><td>false</td><td>RT</td><td>0</td><td>0</td><td>0</td><td>0</td><td>null</td><td>null</td><td>null</td><td>null</td><td>1566378309520596993</td><td>amishra77</td><td>1279643153474224130</td><td>Bharath12450842</td><td>One of the 900 mi...</td><td>null</td><td>false</td><td>193</td><td>502</td><td>0</td><td>6244</td><td>9146</td><td>Sun Jul 05 05:09:...</td><td>https://pbs.twimg...</td><td>[]</td><td>retweet</td></tr>\n",
       "<tr><td>1566378724135555072</td><td>Sun Sep 04 10:52:...</td><td>RT @imzarvinnn: S...</td><td>senior high schoo...</td><td>null</td><td>null</td><td>null</td><td>null</td><td>null</td><td>false</td><td>false</td><td>RT</td><td>0</td><td>0</td><td>0</td><td>0</td><td>null</td><td>null</td><td>null</td><td>null</td><td>1566034947831660545</td><td>imzarvinnn</td><td>1530893925803622401</td><td>lvchdvmp</td><td>I&#x27;m counting on y...</td><td>archen&#x27;s heart</td><td>false</td><td>341</td><td>458</td><td>0</td><td>11632</td><td>5624</td><td>Sun May 29 12:49:...</td><td>https://pbs.twimg...</td><td>[]</td><td>retweet</td></tr>\n",
       "<tr><td>1566378734529101824</td><td>Sun Sep 04 10:52:...</td><td>RT @imzarvinnn: S...</td><td>senior high schoo...</td><td>null</td><td>null</td><td>null</td><td>null</td><td>null</td><td>false</td><td>false</td><td>RT</td><td>0</td><td>0</td><td>0</td><td>0</td><td>null</td><td>null</td><td>null</td><td>null</td><td>1566034947831660545</td><td>imzarvinnn</td><td>1398282464854827012</td><td>doyiea_</td><td>she/her          ...</td><td>null</td><td>false</td><td>1</td><td>91</td><td>0</td><td>59</td><td>621</td><td>Fri May 28 14:18:...</td><td>https://pbs.twimg...</td><td>[]</td><td>retweet</td></tr>\n",
       "<tr><td>1566378741508734976</td><td>Sun Sep 04 10:52:...</td><td>You can also tag ...</td><td>you can also tag ...</td><td>null</td><td>null</td><td>null</td><td>null</td><td>null</td><td>true</td><td>false</td><td></td><td>0</td><td>0</td><td>0</td><td>0</td><td>1566378738438533120</td><td>1299666479344807937</td><td>thxteacher</td><td>null</td><td>null</td><td>null</td><td>1299666479344807937</td><td>thxteacher</td><td>Our Teachers are ...</td><td>null</td><td>false</td><td>902</td><td>69</td><td>1</td><td>325</td><td>1257</td><td>Sat Aug 29 11:13:...</td><td>https://pbs.twimg...</td><td>[TeachersDay, Tha...</td><td>reply</td></tr>\n",
       "<tr><td>1566378743710744576</td><td>Sun Sep 04 10:52:...</td><td>RT @cutedevil5934...</td><td>&quot;teachers play a ...</td><td>null</td><td>null</td><td>null</td><td>null</td><td>null</td><td>false</td><td>false</td><td>RT</td><td>0</td><td>0</td><td>0</td><td>0</td><td>null</td><td>null</td><td>null</td><td>null</td><td>1566366649912938498</td><td>cutedevil5934</td><td>769516988335067137</td><td>shoaibAlam28</td><td>http://Instagram....</td><td>Jamui, India</td><td>false</td><td>85</td><td>146</td><td>0</td><td>1434</td><td>5245</td><td>Sat Aug 27 12:48:...</td><td>https://pbs.twimg...</td><td>[]</td><td>retweet</td></tr>\n",
       "<tr><td>1566378745539469312</td><td>Sun Sep 04 10:52:...</td><td>@jenqissante ! 🧚...</td><td>@jenqissante ! 🧚...</td><td>null</td><td>null</td><td>null</td><td>null</td><td>null</td><td>true</td><td>true</td><td></td><td>0</td><td>0</td><td>0</td><td>0</td><td>1566373182810234882</td><td>1547185772708909056</td><td>jenqissante</td><td>1496397166339932162</td><td>null</td><td>null</td><td>1307586299893702656</td><td>PaperupPh</td><td>more than 1k+ wor...</td><td>10AM-10PM</td><td>false</td><td>520</td><td>182</td><td>2</td><td>95</td><td>820</td><td>Sun Sep 20 07:44:...</td><td>https://pbs.twimg...</td><td>[]</td><td>quote</td></tr>\n",
       "<tr><td>1566378750090027008</td><td>Sun Sep 04 10:52:...</td><td>RT @SethAbramson:...</td><td>like... one of hi...</td><td>null</td><td>null</td><td>null</td><td>null</td><td>null</td><td>false</td><td>false</td><td>RT</td><td>0</td><td>0</td><td>0</td><td>0</td><td>null</td><td>null</td><td>null</td><td>null</td><td>1566236400785264640</td><td>SethAbramson</td><td>1269070500082450437</td><td>ResisterNell</td><td>Activist, #Resist...</td><td>Kentucky </td><td>false</td><td>9745</td><td>10379</td><td>16</td><td>463255</td><td>333552</td><td>Sat Jun 06 00:57:...</td><td>https://pbs.twimg...</td><td>[]</td><td>retweet</td></tr>\n",
       "<tr><td>1566378757585248257</td><td>Sun Sep 04 10:52:...</td><td>@MayraFlores2022 ...</td><td>@mayraflores2022 ...</td><td>null</td><td>null</td><td>null</td><td>null</td><td>null</td><td>true</td><td>false</td><td></td><td>0</td><td>0</td><td>0</td><td>0</td><td>1566050202410164224</td><td>89469296</td><td>MayraFlores2022</td><td>null</td><td>null</td><td>null</td><td>190656345</td><td>bmhochberg</td><td>Retired from IT. ...</td><td>Marlboro, NJ</td><td>false</td><td>274</td><td>147</td><td>2</td><td>2279</td><td>13104</td><td>Tue Sep 14 14:24:...</td><td>https://pbs.twimg...</td><td>[]</td><td>reply</td></tr>\n",
       "<tr><td>1566378766691188736</td><td>Sun Sep 04 10:52:...</td><td>RT @divbyzero: My...</td><td>my son, a first-y...</td><td>null</td><td>null</td><td>null</td><td>null</td><td>null</td><td>false</td><td>false</td><td>RT</td><td>0</td><td>0</td><td>0</td><td>0</td><td>null</td><td>null</td><td>null</td><td>null</td><td>1566198145897451521</td><td>divbyzero</td><td>2656346922</td><td>FraserProf</td><td>academic economis...</td><td>Birmingham/Leicester</td><td>false</td><td>454</td><td>433</td><td>2</td><td>15686</td><td>10789</td><td>Fri Jul 18 09:49:...</td><td>https://pbs.twimg...</td><td>[]</td><td>retweet</td></tr>\n",
       "<tr><td>1566378775038029824</td><td>Sun Sep 04 10:52:...</td><td>@sachi04100 ! 🧚 ...</td><td>@sachi04100 ! 🧚 ...</td><td>null</td><td>null</td><td>null</td><td>null</td><td>null</td><td>true</td><td>true</td><td></td><td>0</td><td>0</td><td>0</td><td>0</td><td>1566060522809675776</td><td>1555157163072712704</td><td>sachi04100</td><td>1496397166339932162</td><td>null</td><td>null</td><td>1307586299893702656</td><td>PaperupPh</td><td>more than 1k+ wor...</td><td>10AM-10PM</td><td>false</td><td>520</td><td>182</td><td>2</td><td>95</td><td>821</td><td>Sun Sep 20 07:44:...</td><td>https://pbs.twimg...</td><td>[]</td><td>quote</td></tr>\n",
       "<tr><td>1566378776396763136</td><td>Sun Sep 04 10:52:...</td><td>RT @Kimmie219: Gu...</td><td>guess what&#x27;s back...</td><td>null</td><td>null</td><td>null</td><td>null</td><td>null</td><td>false</td><td>true</td><td>RT</td><td>0</td><td>0</td><td>0</td><td>0</td><td>null</td><td>null</td><td>null</td><td>1566173018178609155</td><td>1566217351674171393</td><td>Kimmie219</td><td>1556987805678682112</td><td>MsGerner_3</td><td>✨3rd Grade teache...</td><td>NJ</td><td>false</td><td>259</td><td>387</td><td>1</td><td>2032</td><td>2362</td><td>Tue Aug 09 12:56:...</td><td>https://pbs.twimg...</td><td>[]</td><td>retweet</td></tr>\n",
       "<tr><td>1566378788845506560</td><td>Sun Sep 04 10:52:...</td><td>Today english edu...</td><td>today english edu...</td><td>null</td><td>Poland</td><td>PL</td><td>Wroclaw, Poland</td><td>city</td><td>false</td><td>false</td><td></td><td>0</td><td>0</td><td>0</td><td>0</td><td>null</td><td>null</td><td>null</td><td>null</td><td>null</td><td>null</td><td>1464093317965230080</td><td>BabichZarzycka</td><td>Aristocrat</td><td>Wrocław, Polska</td><td>false</td><td>43</td><td>168</td><td>0</td><td>359</td><td>2507</td><td>Fri Nov 26 04:47:...</td><td>https://pbs.twimg...</td><td>[]</td><td>original_tweet</td></tr>\n",
       "</table>\n"
      ],
      "text/plain": [
       "+-------------------+--------------------+--------------------+--------------------+-----------------+-------------+------------------+---------------------+----------------+--------+--------+------------+-----------+-----------+-------------+--------------+-------------------+----------+----------------+--------------+-------------------+----------------+-------------------+---------------+--------------------+--------------------+-----------+---------------+-------------+------------+----------------+------------+--------------------+-----------------------+--------+--------------+\n",
       "|                 id|          created_at|                text|          tweet_text|tweet_coordinates|tweet_country|tweet_country_code|tweet_place_full_name|tweet_place_type|is_reply|is_quote|is_retweeted|reply_count|quote_count|retweet_count|favorite_count|     rp_original_id|rp_user_id|rp_original_user|qu_original_id|     rt_original_id|rt_original_user|         account_id|   account_name| account_description|    account_location|is_verified|total_followers|total_friends|total_listed|total_favourites|total_tweets|  account_created_at|account_profile_picture|hashtags|    tweet_type|\n",
       "+-------------------+--------------------+--------------------+--------------------+-----------------+-------------+------------------+---------------------+----------------+--------+--------+------------+-----------+-----------+-------------+--------------+-------------------+----------+----------------+--------------+-------------------+----------------+-------------------+---------------+--------------------+--------------------+-----------+---------------+-------------+------------+----------------+------------+--------------------+-----------------------+--------+--------------+\n",
       "|1568560486668460032|Sat Sep 10 11:22:...|@RMwareya @Peterm...|@rmwareya @peterm...|             null|         null|              null|                 null|            null|    true|   false|            |          0|          0|            0|             0|1568390559634493446| 609481629|        RMwareya|          null|               null|            null|           19252202|     grootdawid|Husband, father o...|  Cambridge, England|      false|           1902|          608|           4|          188727|       79017|Tue Jan 20 19:25:...|   https://pbs.twimg...|      []|         reply|\n",
       "|1568560492217618436|Sat Sep 10 11:22:...|I've been shouted...|i've been shouted...|             null|         null|              null|                 null|            null|   false|   false|            |          0|          0|            0|             0|               null|      null|            null|          null|               null|            null|1428855922647052297|       IdyanCFC|Im not your savio...|                null|      false|             88|          257|           0|            8922|       25705|Fri Aug 20 23:06:...|   https://pbs.twimg...|      []|original_tweet|\n",
       "|1568560493400408065|Sat Sep 10 11:22:...|RT @chidicy12: NE...|news flash:\n",
       "\"it's...|             null|         null|              null|                 null|            null|   false|   false|          RT|          0|          0|            0|             0|               null|      null|            null|          null|1568362649276272640|       chidicy12|1455951825413214211|    OkezieKevin|          Simplicity|                null|      false|           1502|         2141|           0|            3402|       11345|Wed Nov 03 17:37:...|   https://pbs.twimg...|      []|       retweet|\n",
       "|1568560496055394304|Sat Sep 10 11:22:...|RT @AmyA1A: @libs...|@libsoftiktok @sd...|             null|         null|              null|                 null|            null|   false|   false|          RT|          0|          0|            0|             0|               null|      null|            null|          null|1568352872743555081|          AmyA1A|         4785945251|JoseAnt18071999|23 | Guía turísti...|    Estepona, España|      false|             76|          526|           1|           31566|       10479|Tue Jan 12 16:53:...|   https://pbs.twimg...|      []|       retweet|\n",
       "|1568560496319635457|Sat Sep 10 11:22:...|RT @Javidfaisal: ...|education is the ...|             null|         null|              null|                 null|            null|   false|   false|          RT|          0|          0|            0|             0|               null|      null|            null|          null|1568495713981550594|     Javidfaisal| 759076339517448192|  tamanna_shams|پشتون بود چو قلبم...|         Afghanistan|      false|          10218|         2888|          10|            2680|        2124|Fri Jul 29 17:21:...|   https://pbs.twimg...|      []|       retweet|\n",
       "|1568560501201801218|Sat Sep 10 11:22:...|RT @americansunit...|thanks to #scotus...|             null|         null|              null|                 null|            null|   false|   false|          RT|          0|          0|            0|             0|               null|      null|            null|          null|1567870443809394688| americansunited|          955661743|AmersUnitedCSRA|Central Savannah ...|    Augusta, GA, USA|      false|             63|           40|           4|               4|        1709|Sun Nov 18 15:09:...|   https://pbs.twimg...|[SCOTUS]|       retweet|\n",
       "|1568560503022026754|Sat Sep 10 11:22:...|RT @PHITHETAKAPPA...|community college...|             null|         null|              null|                 null|            null|   false|   false|          RT|          0|          0|            0|             0|               null|      null|            null|          null|1568356190844817420|   PHITHETAKAPPA|         1630284805|       mgccprez|President of @mgc...|            Virginia|      false|           2782|         2087|         217|            8799|       21847|Mon Jul 29 12:34:...|   https://pbs.twimg...|      []|       retweet|\n",
       "|1568560511138004992|Sat Sep 10 11:22:...|Subscriber Papers...|subscriber papers...|             null|         null|              null|                 null|            null|   false|   false|            |          0|          0|            0|             0|               null|      null|            null|          null|               null|            null|          325682740|   willgirl1225|Above Ability Abo...|المملكة العربية ا...|      false|              1|            8|           0|               0|       11963|Tue Jun 28 18:03:...|   https://pbs.twimg...|      []|original_tweet|\n",
       "|1568560513319051264|Sat Sep 10 11:22:...|Homes near outsta...|homes near outsta...|             null|         null|              null|                 null|            null|   false|   false|            |          0|          0|            0|             0|               null|      null|            null|          null|               null|            null|           28092030|         FAB87F|Christian ✝️; Iri...|    Northern Ireland|      false|          18681|        17438|           0|          154334|      147257|Wed Apr 01 11:59:...|   https://pbs.twimg...|      []|original_tweet|\n",
       "|1568560517412753408|Sat Sep 10 11:22:...|One of the most t...|one of the most t...|             null|         null|              null|                 null|            null|   false|   false|            |          0|          0|            0|             0|               null|      null|            null|          null|               null|            null|          131458935|     KevinMwalo|        Freespirited|                null|      false|             65|          579|           0|             375|         207|Sat Apr 10 09:46:...|   https://pbs.twimg...|      []|original_tweet|\n",
       "|1568560532440977410|Sat Sep 10 11:22:...|RT @AbroErum: The...|the crops… and mi...|             null|         null|              null|                 null|            null|   false|   false|          RT|          0|          0|            0|             0|               null|      null|            null|          null|1568306536887246856|        AbroErum|1074333769534988289|SaleemSahito007|سُبْحَانَ اللَّهِ...|karachi, Sindh, P...|      false|           4796|         4501|           4|            7452|        6631|Sun Dec 16 16:01:...|   https://pbs.twimg...|      []|       retweet|\n",
       "|1568560536157143047|Sat Sep 10 11:22:...|RT @BlackBeardsfl...|funfacts: black m...|             null|         null|              null|                 null|            null|   false|   false|          RT|          0|          0|            0|             0|               null|      null|            null|          null|1568560072694939648| BlackBeardsflag| 805516112456581120|      BigDonTee|Satirical tweets,...|      Washington, DC|      false|           3083|         1564|          16|             862|      200713|Sun Dec 04 20:56:...|   https://pbs.twimg...|      []|       retweet|\n",
       "|1568560536228450304|Sat Sep 10 11:22:...|I'm having so muc...|i'm having so muc...|             null|         null|              null|                 null|            null|   false|   false|            |          0|          0|            0|             0|               null|      null|            null|          null|               null|            null|1482713970721144838|    BiubiumewHJ|Nsfw | 18 + | Veg...|                null|      false|             58|           62|           0|           18486|        4941|Sun Jan 16 13:59:...|   https://pbs.twimg...|      []|original_tweet|\n",
       "|1568560538900217857|Sat Sep 10 11:22:...|@adamugarba Who, ...|@adamugarba who, ...|             null|         null|              null|                 null|            null|    true|   false|            |          0|          0|            0|             0|1568234587091877890|  41113813|      adamugarba|          null|               null|            null|1547148459496677377|       ifyn4all|Beautiful, Simple...|                null|      false|             12|          123|           0|               3|         734|Wed Jul 13 09:19:...|   https://pbs.twimg...|      []|         reply|\n",
       "|1568560548941557766|Sat Sep 10 11:22:...|RT @vanyakairos: ...|the only reason t...|             null|         null|              null|                 null|            null|   false|   false|          RT|          0|          0|            0|             0|               null|      null|            null|          null|1568056678762807298|     vanyakairos|1494609400102748161|CambridgeLord79|     Lemons Lemonade|                null|      false|             58|          335|           0|               9|         147|Fri Feb 18 09:48:...|   https://abs.twimg...|      []|       retweet|\n",
       "+-------------------+--------------------+--------------------+--------------------+-----------------+-------------+------------------+---------------------+----------------+--------+--------+------------+-----------+-----------+-------------+--------------+-------------------+----------+----------------+--------------+-------------------+----------------+-------------------+---------------+--------------------+--------------------+-----------+---------------+-------------+------------+----------------+------------+--------------------+-----------------------+--------+--------------+"
      ]
     },
     "execution_count": 12,
     "metadata": {},
     "output_type": "execute_result"
    }
   ],
   "source": [
    "twitter_df5.limit(15)"
   ]
  },
  {
   "cell_type": "code",
   "execution_count": 11,
   "id": "3f06e9b3-294d-44c8-bdb0-2678965584d0",
   "metadata": {},
   "outputs": [
    {
     "name": "stderr",
     "output_type": "stream",
     "text": [
      "                                                                                \r"
     ]
    },
    {
     "data": {
      "text/plain": [
       "27102994"
      ]
     },
     "execution_count": 11,
     "metadata": {},
     "output_type": "execute_result"
    }
   ],
   "source": [
    "twitter_df5.count()"
   ]
  },
  {
   "cell_type": "code",
   "execution_count": 13,
   "id": "ffa36380-541e-40f7-9f8b-6d32e69df12f",
   "metadata": {},
   "outputs": [
    {
     "name": "stderr",
     "output_type": "stream",
     "text": [
      "                                                                                \r"
     ]
    },
    {
     "data": {
      "text/html": [
       "<table border='1'>\n",
       "<tr><th>id</th><th>created_at</th><th>text</th><th>tweet_text</th><th>tweet_coordinates</th><th>tweet_country</th><th>tweet_country_code</th><th>tweet_place_full_name</th><th>tweet_place_type</th><th>is_reply</th><th>is_quote</th><th>is_retweeted</th><th>reply_count</th><th>quote_count</th><th>retweet_count</th><th>favorite_count</th><th>rp_original_id</th><th>rp_user_id</th><th>rp_original_user</th><th>qu_original_id</th><th>rt_original_id</th><th>rt_original_user</th><th>account_id</th><th>account_name</th><th>account_description</th><th>account_location</th><th>is_verified</th><th>total_followers</th><th>total_friends</th><th>total_listed</th><th>total_favourites</th><th>total_tweets</th><th>account_created_at</th><th>account_profile_picture</th><th>hashtags</th><th>tweet_type</th></tr>\n",
       "<tr><td>0</td><td>0</td><td>0</td><td>0</td><td>27081980</td><td>26869044</td><td>26869044</td><td>26869044</td><td>26869044</td><td>0</td><td>0</td><td>0</td><td>0</td><td>0</td><td>0</td><td>0</td><td>22697695</td><td>22571090</td><td>22571090</td><td>24666475</td><td>9041884</td><td>9041884</td><td>0</td><td>0</td><td>0</td><td>8218657</td><td>0</td><td>0</td><td>0</td><td>0</td><td>0</td><td>0</td><td>0</td><td>0</td><td>0</td><td>0</td></tr>\n",
       "</table>\n"
      ],
      "text/plain": [
       "+---+----------+----+----------+-----------------+-------------+------------------+---------------------+----------------+--------+--------+------------+-----------+-----------+-------------+--------------+--------------+----------+----------------+--------------+--------------+----------------+----------+------------+-------------------+----------------+-----------+---------------+-------------+------------+----------------+------------+------------------+-----------------------+--------+----------+\n",
       "| id|created_at|text|tweet_text|tweet_coordinates|tweet_country|tweet_country_code|tweet_place_full_name|tweet_place_type|is_reply|is_quote|is_retweeted|reply_count|quote_count|retweet_count|favorite_count|rp_original_id|rp_user_id|rp_original_user|qu_original_id|rt_original_id|rt_original_user|account_id|account_name|account_description|account_location|is_verified|total_followers|total_friends|total_listed|total_favourites|total_tweets|account_created_at|account_profile_picture|hashtags|tweet_type|\n",
       "+---+----------+----+----------+-----------------+-------------+------------------+---------------------+----------------+--------+--------+------------+-----------+-----------+-------------+--------------+--------------+----------+----------------+--------------+--------------+----------------+----------+------------+-------------------+----------------+-----------+---------------+-------------+------------+----------------+------------+------------------+-----------------------+--------+----------+\n",
       "|  0|         0|   0|         0|         27081980|     26869044|          26869044|             26869044|        26869044|       0|       0|           0|          0|          0|            0|             0|      22697695|  22571090|        22571090|      24666475|       9041884|         9041884|         0|           0|                  0|         8218657|          0|              0|            0|           0|               0|           0|                 0|                      0|       0|         0|\n",
       "+---+----------+----+----------+-----------------+-------------+------------------+---------------------+----------------+--------+--------+------------+-----------+-----------+-------------+--------------+--------------+----------+----------------+--------------+--------------+----------------+----------+------------+-------------------+----------------+-----------+---------------+-------------+------------+----------------+------------+------------------+-----------------------+--------+----------+"
      ]
     },
     "execution_count": 13,
     "metadata": {},
     "output_type": "execute_result"
    }
   ],
   "source": [
    "twitter_df5.select([count(when(isnull(c), c)).alias(c) for c in twitter_df5.columns])"
   ]
  },
  {
   "cell_type": "code",
   "execution_count": 17,
   "id": "579227f1-2db7-4724-a570-7a971eff7983",
   "metadata": {},
   "outputs": [],
   "source": [
    "# Out of 27 million data rows, we have account locations for 8 million rows only"
   ]
  },
  {
   "cell_type": "code",
   "execution_count": 14,
   "id": "23f556b2-ca8e-4eed-a41a-90a2e650ef82",
   "metadata": {},
   "outputs": [
    {
     "name": "stderr",
     "output_type": "stream",
     "text": [
      "                                                                                \r"
     ]
    },
    {
     "data": {
      "text/plain": [
       "7869779"
      ]
     },
     "execution_count": 14,
     "metadata": {},
     "output_type": "execute_result"
    }
   ],
   "source": [
    "twitter_df5.select('account_id','account_location').distinct().count()"
   ]
  },
  {
   "cell_type": "code",
   "execution_count": 16,
   "id": "0bc47e07-9909-49c8-9408-2ee6f1a91438",
   "metadata": {},
   "outputs": [
    {
     "name": "stderr",
     "output_type": "stream",
     "text": [
      "                                                                                \r"
     ]
    },
    {
     "data": {
      "text/plain": [
       "7418754"
      ]
     },
     "execution_count": 16,
     "metadata": {},
     "output_type": "execute_result"
    }
   ],
   "source": [
    "twitter_df5.select('account_id').distinct().count()\n",
    "# For some accounts, the location is changing with time"
   ]
  },
  {
   "cell_type": "code",
   "execution_count": 9,
   "id": "ada1bdd7-034a-48c6-8297-3f57b6d957fa",
   "metadata": {},
   "outputs": [
    {
     "name": "stderr",
     "output_type": "stream",
     "text": [
      "                                                                                \r"
     ]
    },
    {
     "data": {
      "text/html": [
       "<table border='1'>\n",
       "<tr><th>account_id</th><th>account_location</th></tr>\n",
       "<tr><td>4439290607</td><td>️️️️ ️️\n",
       "️️️️ ️</td></tr>\n",
       "<tr><td>67313763</td><td>upstate New York</td></tr>\n",
       "<tr><td>1474387239710990352</td><td>null</td></tr>\n",
       "<tr><td>1141603477</td><td>Arlington, Va</td></tr>\n",
       "<tr><td>118899225</td><td>Milwaukee, WI</td></tr>\n",
       "<tr><td>1145097164902883331</td><td>he/him • 22 • l(g...</td></tr>\n",
       "<tr><td>1477937988822872067</td><td>London, England</td></tr>\n",
       "<tr><td>1320696007672451079</td><td>null</td></tr>\n",
       "<tr><td>306975891</td><td>Manhattan, KS</td></tr>\n",
       "<tr><td>1457000608423100431</td><td>null</td></tr>\n",
       "</table>\n"
      ],
      "text/plain": [
       "+-------------------+--------------------+\n",
       "|         account_id|    account_location|\n",
       "+-------------------+--------------------+\n",
       "|         4439290607|      ️️️️ ️️\n",
       "️️️️ ️|\n",
       "|           67313763|    upstate New York|\n",
       "|1474387239710990352|                null|\n",
       "|         1141603477|       Arlington, Va|\n",
       "|          118899225|       Milwaukee, WI|\n",
       "|1145097164902883331|he/him • 22 • l(g...|\n",
       "|1477937988822872067|     London, England|\n",
       "|1320696007672451079|                null|\n",
       "|          306975891|       Manhattan, KS|\n",
       "|1457000608423100431|                null|\n",
       "+-------------------+--------------------+"
      ]
     },
     "execution_count": 9,
     "metadata": {},
     "output_type": "execute_result"
    }
   ],
   "source": [
    "twitter_df5.select('account_id','account_location').distinct().limit(10)"
   ]
  },
  {
   "cell_type": "code",
   "execution_count": 43,
   "id": "2d049c04-0af3-41c6-b578-a58e9909e929",
   "metadata": {},
   "outputs": [
    {
     "name": "stderr",
     "output_type": "stream",
     "text": [
      "                                                                                \r"
     ]
    },
    {
     "name": "stdout",
     "output_type": "stream",
     "text": [
      "+----------------+----------------+\n",
      "|account_location|total_twitterers|\n",
      "+----------------+----------------+\n",
      "|            null|         2492747|\n",
      "|   United States|           66437|\n",
      "|  Lagos, Nigeria|           40269|\n",
      "| Los Angeles, CA|           33602|\n",
      "|         Nigeria|           32783|\n",
      "|         she/her|           30341|\n",
      "|           India|           29430|\n",
      "| London, England|           28484|\n",
      "| California, USA|           25590|\n",
      "|     Chicago, IL|           25254|\n",
      "|     Houston, TX|           24496|\n",
      "|     Atlanta, GA|           22454|\n",
      "|             USA|           21619|\n",
      "|      Texas, USA|           21472|\n",
      "|  Nairobi, Kenya|           19875|\n",
      "|  Washington, DC|           19481|\n",
      "|    Florida, USA|           19411|\n",
      "|          Canada|           19400|\n",
      "|  United Kingdom|           19388|\n",
      "|    New York, NY|           18217|\n",
      "+----------------+----------------+\n",
      "only showing top 20 rows\n",
      "\n"
     ]
    }
   ],
   "source": [
    "# Selecting distinct users with their locations from our tweets data\n",
    "\n",
    "df_loc = twitter_df5.select('account_id','account_location').distinct()\\\n",
    ".groupBy('account_location')\\\n",
    ".agg(count('*').alias('total_twitterers'))\n",
    "\n",
    "df_loc.orderBy('total_twitterers',ascending=False).show()"
   ]
  },
  {
   "cell_type": "code",
   "execution_count": 17,
   "id": "68ad4b09-df97-41ec-9436-f355f4664d96",
   "metadata": {},
   "outputs": [
    {
     "name": "stderr",
     "output_type": "stream",
     "text": [
      "                                                                                \r"
     ]
    },
    {
     "data": {
      "text/html": [
       "<table border='1'>\n",
       "<tr><th>account_location</th><th>total_twitterers</th></tr>\n",
       "<tr><td>Stockton, CA</td><td>554</td></tr>\n",
       "<tr><td>NFTCrypto is gros...</td><td>1</td></tr>\n",
       "<tr><td>Wellington City, ...</td><td>410</td></tr>\n",
       "<tr><td>St Thomas, ON</td><td>1</td></tr>\n",
       "<tr><td>Shady Side, Md.</td><td>1</td></tr>\n",
       "<tr><td>Et. </td><td>1</td></tr>\n",
       "<tr><td>Kirkland Washington</td><td>1</td></tr>\n",
       "<tr><td>Grover, NC</td><td>3</td></tr>\n",
       "<tr><td>Vancouver, mostly</td><td>1</td></tr>\n",
       "<tr><td>kumasi</td><td>53</td></tr>\n",
       "</table>\n"
      ],
      "text/plain": [
       "+----------------+----------------+\n",
       "|account_location|total_twitterers|\n",
       "+----------------+----------------+\n",
       "|          Oxford|             691|\n",
       "|           Patna|             159|\n",
       "|    in your mind|              60|\n",
       "|    any pronouns|            2283|\n",
       "|             ^*!|               1|\n",
       "|    Kirkland, WA|             187|\n",
       "|     Beecher, MI|              11|\n",
       "|     Salford, UK|              17|\n",
       "|        Sarpadia|               1|\n",
       "|     Afghanistan|            1780|\n",
       "+----------------+----------------+"
      ]
     },
     "execution_count": 17,
     "metadata": {},
     "output_type": "execute_result"
    }
   ],
   "source": [
    "df_loc.limit(10)"
   ]
  },
  {
   "cell_type": "code",
   "execution_count": 44,
   "id": "92d57bed-0fe2-4230-a941-0c1bc4cf95a8",
   "metadata": {},
   "outputs": [],
   "source": [
    "## Clean location data\n",
    "na_ctry = [ 'AK', 'AL', 'AR', 'AZ', 'CA', 'CO', 'CT', 'DC', 'DE', 'FL', 'GA',\n",
    "           'HI', 'IA', 'ID', 'IL', 'IN', 'KS', 'KY', 'LA', 'MA', 'MD', 'ME',\n",
    "           'MI', 'MN', 'MO', 'MS', 'MT', 'NC', 'ND', 'NE', 'NH', 'NJ', 'NM',\n",
    "           'NV', 'NY', 'OH', 'OK', 'OR', 'PA', 'RI', 'SC', 'SD', 'TN', 'TX',\n",
    "           'UT', 'VA', 'VT', 'WA', 'WI', 'WV', 'WY','Texas','USA','US','United States',\n",
    "            'Canada','canada','Toronto','toronto','Ontario','ontario',\"Alaska\", \"Alabama\",\n",
    "             \"Arkansas\", \"American Samoa\", \"Arizona\", \"California\", \"Colorado\",\n",
    "             \"Connecticut\", \"District \", \"of Columbia\", \"Delaware\", \"Florida\", \n",
    "             \"Georgia\", \"Guam\", \"Hawaii\", \"Iowa\", \"Idaho\", \"Illinois\", \"Indiana\",\n",
    "             \"Kansas\", \"Kentucky\", \"Louisiana\", \"Massachusetts\", \"Maryland\", \"Maine\", \n",
    "             \"Michigan\", \"Minnesota\", \"Missouri\", \"Mississippi\", \"Montana\", \"North Carolina\",\n",
    "             \"North Dakota\", \"Nebraska\", \"New Hampshire\", \"New Jersey\", \"New Mexico\", \"Nevada\", \n",
    "             \"New York\", \"Ohio\", \"Oklahoma\", \"Oregon\", \"Pennsylvania\", \"Puerto Rico\", \"Rhode Island\", \n",
    "             \"South Carolina\", \"South Dakota\", \"Tennessee\", \"Texas\", \"Utah\", \"Virginia\", \n",
    "             \"Virgin Islands\", \"Vermont\", \"Washington\", \"Wisconsin\", \"West Virginia\", \"Wyoming\",\n",
    "             \"Aberdeen\", \"Abilene\", \"Akron\", \"Albany\", \"Albuquerque\", \"Alexandria\", \"Allentown\",\n",
    "             \"Amarillo\", \"Anaheim\", \"Anchorage\", \"Ann Arbor\", \"Antioch\", \"Apple Valley\", \"Appleton\",\n",
    "             \"Arlington\", \"Arvada\", \"Asheville\", \"Athens\", \"Atlanta\", \"Atlantic City\", \"Augusta\", \n",
    "             \"Aurora\", \"Austin\", \"Bakersfield\", \"Baltimore\", \"Barnstable\", \"Baton Rouge\", \"Beaumont\",\n",
    "             \"Bel Air\", \"Bellevue\", \"Berkeley\", \"Bethlehem\", \"Billings\", \"Birmingham\", \"Bloomington\", \n",
    "             \"Boise\", \"Boise City\", \"Bonita Springs\", \"Boston\", \"Boulder\", \"Bradenton\", \"Bremerton\",\n",
    "             \"Bridgeport\", \"Brighton\", \"Brownsville\", \"Bryan\", \"Buffalo\", \"Burbank\", \"Burlington\",\n",
    "             \"Cambridge\", \"Canton\", \"Cape Coral\", \"Carrollton\", \"Cary\", \"Cathedral City\", \"Cedar Rapids\", \n",
    "             \"Champaign\", \"Chandler\", \"Charleston\", \"Charlotte\", \"Chattanooga\", \"Chesapeake\", \"Chicago\",\n",
    "             \"Chula Vista\", \"Cincinnati\", \"Clarke County\", \"Clarksville\", \"Clearwater\", \"Cleveland\", \n",
    "             \"College Station\", \"Colorado Springs\", \"Columbia\", \"Columbus\", \"Concord\", \"Coral Springs\", \n",
    "             \"Corona\", \"Corpus Christi\", \"Costa Mesa\", \"Dallas\", \"Daly City\", \"Danbury\", \"Davenport\", \n",
    "             \"Davidson County\", \"Dayton\", \"Daytona Beach\", \"Deltona\", \"Denton\", \"Denver\", \"Des Moines\",\n",
    "             \"Detroit\", \"Downey\", \"Duluth\", \"Durham\", \"El Monte\", \"El Paso\", \"Elizabeth\", \"Elk Grove\",\n",
    "             \"Elkhart\", \"Erie\", \"Escondido\", \"Eugene\", \"Evansville\", \"Fairfield\", \"Fargo\", \"Fayetteville\",\n",
    "             \"Fitchburg\", \"Flint\", \"Fontana\", \"Fort Collins\", \"Fort Lauderdale\", \"Fort Smith\",\n",
    "             \"Fort Walton Beach\", \"Fort Wayne\", \"Fort Worth\", \"Frederick\", \"Fremont\", \"Fresno\", \n",
    "             \"Fullerton\", \"Gainesville\", \"Garden Grove\", \"Garland\", \"Gastonia\", \"Gilbert\", \"Glendale\",\n",
    "             \"Grand Prairie\", \"Grand Rapids\", \"Grayslake\", \"Green Bay\", \"GreenBay\", \"Greensboro\",\n",
    "             \"Greenville\", \"Gulfport-Biloxi\", \"Hagerstown\", \"Hampton\", \"Harlingen\", \"Harrisburg\", \n",
    "             \"Hartford\", \"Havre de Grace\", \"Hayward\", \"Hemet\", \"Henderson\", \"Hesperia\", \"Hialeah\",\n",
    "             \"Hickory\", \"High Point\", \"Hollywood\", \"Honolulu\", \"Houma\", \"Houston\", \"Howell\", \"Huntington\", \n",
    "             \"Huntington Beach\", \"Huntsville\", \"Independence\", \"Indianapolis\", \"Inglewood\", \"Irvine\", \n",
    "             \"Irving\", \"Jackson\", \"Jacksonville\", \"Jefferson\", \"Jersey City\", \"Johnson City\", \"Joliet\", \n",
    "             \"Kailua\", \"Kalamazoo\", \"Kaneohe\", \"Kansas City\", \"Kennewick\", \"Kenosha\", \"Killeen\", \"Kissimmee\", \n",
    "             \"Knoxville\", \"Lacey\", \"Lafayette\", \"Lake Charles\", \"Lakeland\", \"Lakewood\", \"Lancaster\", \"Lansing\",\n",
    "             \"Laredo\", \"Las Cruces\", \"Las Vegas\", \"Layton\", \"Leominster\", \"Lewisville\", \"Lexington\", \"Lincoln\",\n",
    "             \"Little Rock\", \"Long Beach\", \"Lorain\", \"Los Angeles\", \"Louisville\", \"Lowell\", \"Lubbock\", \"Macon\",\n",
    "             \"Madison\", \"Manchester\", \"Marina\", \"Marysville\", \"McAllen\", \"McHenry\", \"Medford\", \"Melbourne\", \n",
    "             \"Memphis\", \"Merced\", \"Mesa\", \"Mesquite\", \"Miami\", \"Milwaukee\", \"Minneapolis\", \"Miramar\",\n",
    "             \"Mission Viejo\", \"Mobile\", \"Modesto\", \"Monroe\", \"Monterey\", \"Montgomery\", \"Moreno Valley\", \n",
    "             \"Murfreesboro\", \"Murrieta\", \"Muskegon\", \"Myrtle Beach\", \"Naperville\", \"Naples\", \"Nashua\", \n",
    "             \"Nashville\", \"New Bedford\", \"New Haven\", \"New London\", \"New Orleans\", \"New York\", \"New York City\",\n",
    "             \"Newark\", \"Newburgh\", \"Newport News\", \"Norfolk\", \"Normal\", \"Norman\", \"North Charleston\", \n",
    "             \"North Las Vegas\", \"North Port\", \"Norwalk\", \"Norwich\", \"Oakland\", \"Ocala\", \"Oceanside\",\n",
    "             \"Odessa\", \"Ogden\", \"Oklahoma City\", \"Olathe\", \"Olympia\", \"Omaha\", \"Ontario\", \"Orange\", \n",
    "             \"Orem\", \"Orlando\", \"Overland Park\", \"Oxnard\", \"Palm Bay\", \"Palm Springs\", \"Palmdale\", \n",
    "             \"Panama City\", \"Pasadena\", \"Paterson\", \"Pembroke Pines\", \"Pensacola\", \"Peoria\", \"Philadelphia\", \n",
    "             \"Phoenix\", \"Pittsburgh\", \"Plano\", \"Pomona\", \"Pompano Beach\", \"Port Arthur\", \"Port Orange\", \n",
    "             \"Port Saint Lucie\", \"Port St. Lucie\", \"Portland\", \"Portsmouth\", \"Poughkeepsie\", \"Providence\", \n",
    "             \"Provo\", \"Pueblo\", \"Punta Gorda\", \"Racine\", \"Raleigh\", \"Rancho Cucamonga\", \"Reading\", \"Redding\",\n",
    "             \"Reno\", \"Richland\", \"Richmond\", \"Richmond County\", \"Riverside\", \"Roanoke\", \"Rochester\", \"Rockford\",\n",
    "             \"Roseville\", \"Round Lake Beach\", \"Sacramento\", \"Saginaw\", \"Saint Louis\", \"Saint Paul\", \n",
    "             \"Saint Petersburg\", \"Salem\", \"Salinas\", \"Salt Lake City\", \"San Antonio\", \"San Bernardino\", \n",
    "             \"San Buenaventura\", \"San Diego\", \"San Francisco\", \"San Jose\", \"Santa Ana\", \"Santa Barbara\",\n",
    "             \"Santa Clara\", \"Santa Clarita\", \"Santa Cruz\", \"Santa Maria\", \"Santa Rosa\", \"Sarasota\", \n",
    "             \"Savannah\", \"Scottsdale\", \"Scranton\", \"Seaside\", \"Seattle\", \"Sebastian\", \"Shreveport\", \n",
    "             \"Simi Valley\", \"Sioux City\", \"Sioux Falls\", \"South Bend\", \"South Lyon\", \"Spartanburg\", \n",
    "             \"Spokane\", \"Springdale\", \"Springfield\", \"St. Louis\", \"St. Paul\", \"St. Petersburg\", \"Stamford\", \n",
    "             \"Sterling Heights\", \"Stockton\", \"Sunnyvale\", \"Syracuse\", \"Tacoma\", \"Tallahassee\", \"Tampa\",\n",
    "             \"Temecula\", \"Tempe\", \"Thornton\", \"Thousand Oaks\", \"Toledo\", \"Topeka\", \"Torrance\", \"Trenton\",\n",
    "             \"Tucson\", \"Tulsa\", \"Tuscaloosa\", \"Tyler\", \"Utica\", \"Vallejo\", \"Vancouver\", \"Vero Beach\", \n",
    "             \"Victorville\", \"Virginia Beach\", \"Visalia\", \"Waco\", \"Warren\", \"Washington\", \"Waterbury\", \n",
    "             \"Waterloo\", \"West Covina\", \"West Valley City\", \"Westminster\", \"Wichita\", \"Wilmington\", \n",
    "             \"Winston\", \"Winter Haven\", \"Worcester\", \"Yakima\", \"Yonkers\", \"York\", \"Youngstown\",\n",
    "          \"Pacific no\"]\n"
   ]
  },
  {
   "cell_type": "code",
   "execution_count": 45,
   "id": "47e80238-ab3d-4dd4-b6e6-b0dd26065906",
   "metadata": {},
   "outputs": [],
   "source": [
    "# Making a lists of all countries in all continents\n",
    "na_ctry1='|'.join([c for c in na_ctry])\n",
    "\n",
    "af_ctry = my_world.get_countries_list_of('Africa')\n",
    "af_ctry1='|'.join([c for c in af_ctry])\n",
    "\n",
    "eu_ctry0 = my_world.get_countries_list_of('Europe')\n",
    "eu_ctry1 = [*eu_ctry0,*['London','England','UK','United Kingdom','Scotland','Northern Ireland']]\n",
    "eu_ctry2='|'.join([c for c in eu_ctry1])\n",
    "\n",
    "oc_ctry = my_world.get_countries_list_of('Oceania')\n",
    "oc_ctry1='|'.join([c for c in oc_ctry])\n",
    "\n",
    "sa_ctry = my_world.get_countries_list_of('South America')\n",
    "sa_ctry1='|'.join([c for c in sa_ctry])\n",
    "\n",
    "as_ctry = my_world.get_countries_list_of('Asia')\n",
    "as_ctry1='|'.join([c for c in as_ctry])\n",
    "\n",
    "df_loc1 = df_loc\\\n",
    ".withColumn('Region',\\\n",
    "            when(df_loc['account_location'].rlike(af_ctry1), 'Africa')\\\n",
    "            .when(df_loc['account_location'].rlike(sa_ctry1), 'South America')\\\n",
    "            .when(df_loc['account_location'].rlike(oc_ctry1), 'Oceania')\\\n",
    "            .when(df_loc['account_location'].rlike(eu_ctry2), 'Europe')\\\n",
    "            .when(df_loc['account_location'].rlike(as_ctry1), 'Asia')\\\n",
    "            .when(df_loc['account_location'].rlike(na_ctry1), 'North America')\\\n",
    "            .otherwise(df_loc['account_location']))"
   ]
  },
  {
   "cell_type": "code",
   "execution_count": 46,
   "id": "e92e79b7-7eb7-4718-8b6d-9eba4b5eb02f",
   "metadata": {},
   "outputs": [
    {
     "name": "stderr",
     "output_type": "stream",
     "text": [
      "                                                                                \r"
     ]
    },
    {
     "data": {
      "text/html": [
       "<table border='1'>\n",
       "<tr><th>account_location</th><th>total_twitterers</th><th>Region</th></tr>\n",
       "<tr><td>Gainesville, FL</td><td>1323</td><td>North America</td></tr>\n",
       "<tr><td>...</td><td>278</td><td>...</td></tr>\n",
       "<tr><td>Alaska, USA... mo...</td><td>1</td><td>North America</td></tr>\n",
       "<tr><td>Louis Tomlinson </td><td>1</td><td>Louis Tomlinson </td></tr>\n",
       "<tr><td>England </td><td>353</td><td>Europe</td></tr>\n",
       "<tr><td>Greater America</td><td>2</td><td>Greater America</td></tr>\n",
       "<tr><td>Brisbane, Australia</td><td>534</td><td>Oceania</td></tr>\n",
       "<tr><td>Caracas, Venezuela</td><td>482</td><td>South America</td></tr>\n",
       "<tr><td>Sapno ki duniya</td><td>2</td><td>Sapno ki duniya</td></tr>\n",
       "<tr><td>Semmes, Alabama</td><td>2</td><td>North America</td></tr>\n",
       "<tr><td>Annandale, VA</td><td>63</td><td>North America</td></tr>\n",
       "<tr><td>5 Bruton Street +...</td><td>1</td><td>5 Bruton Street +...</td></tr>\n",
       "<tr><td>St Petersburg, FL</td><td>912</td><td>North America</td></tr>\n",
       "<tr><td>San diego, CA</td><td>3</td><td>North America</td></tr>\n",
       "<tr><td>Brooklyn NY</td><td>127</td><td>North America</td></tr>\n",
       "<tr><td>Siberia </td><td>5</td><td>Siberia </td></tr>\n",
       "<tr><td>The Right Place</td><td>6</td><td>The Right Place</td></tr>\n",
       "<tr><td>Utah</td><td>967</td><td>North America</td></tr>\n",
       "<tr><td>Latina, 22</td><td>1</td><td>Latina, 22</td></tr>\n",
       "<tr><td>CA </td><td>51</td><td>North America</td></tr>\n",
       "</table>\n"
      ],
      "text/plain": [
       "+--------------------+----------------+--------------------+\n",
       "|    account_location|total_twitterers|              Region|\n",
       "+--------------------+----------------+--------------------+\n",
       "|                lost|             271|                lost|\n",
       "|   Chandigarh, India|             997|                Asia|\n",
       "|   he/him in the GTA|               1|   he/him in the GTA|\n",
       "|Somewhere in the ...|             213|Somewhere in the ...|\n",
       "|                  16|             494|                  16|\n",
       "|              ㄱㅅㅇ|               1|              ㄱㅅㅇ|\n",
       "|    Bengaluru, India|            5239|                Asia|\n",
       "|                +614|               1|                +614|\n",
       "|                  SW|              20|                  SW|\n",
       "|        Patna, India|            1537|                Asia|\n",
       "|      Lake Worth, TX|               9|       North America|\n",
       "|     Oxford, England|            1581|              Europe|\n",
       "|Wilmington, North...|               2|       North America|\n",
       "|Rio de Janeiro, B...|            1506|Rio de Janeiro, B...|\n",
       "|Boston, Massachus...|             247|       North America|\n",
       "|   Cape Coast, Ghana|             221|              Africa|\n",
       "|Somewhere over th...|             308|Somewhere over th...|\n",
       "|      Monticello, KY|               9|       North America|\n",
       "|        West Malling|               1|        West Malling|\n",
       "|          Stonebwoy |               1|          Stonebwoy |\n",
       "+--------------------+----------------+--------------------+"
      ]
     },
     "execution_count": 46,
     "metadata": {},
     "output_type": "execute_result"
    }
   ],
   "source": [
    "df_loc1.limit(20)"
   ]
  },
  {
   "cell_type": "code",
   "execution_count": 47,
   "id": "7e110ecb-c98c-4b03-88d0-f758a1403b86",
   "metadata": {},
   "outputs": [
    {
     "data": {
      "text/plain": [
       "'Africa|North America|South America|Asia|Europe|Oceania'"
      ]
     },
     "execution_count": 47,
     "metadata": {},
     "output_type": "execute_result"
    }
   ],
   "source": [
    "cont = ['Africa','North America','South America','Asia','Europe','Oceania']\n",
    "cont1='|'.join([c for c in cont])\n",
    "cont1"
   ]
  },
  {
   "cell_type": "code",
   "execution_count": 48,
   "id": "e812110b-e79e-4d74-a772-26216c77d647",
   "metadata": {},
   "outputs": [],
   "source": [
    "df_loc1_conts=df_loc1.filter(df_loc1['Region'].rlike(cont1))"
   ]
  },
  {
   "cell_type": "code",
   "execution_count": 49,
   "id": "b1e2517c-7752-4c30-b9bf-71cb0244753d",
   "metadata": {},
   "outputs": [
    {
     "name": "stderr",
     "output_type": "stream",
     "text": [
      "                                                                                \r"
     ]
    }
   ],
   "source": [
    "conts_acc = df_loc1_conts.groupBy('Region').agg(sum('total_twitterers').alias('total_twitterers'))\\\n",
    ".orderBy('total_twitterers',ascending=False).toPandas()"
   ]
  },
  {
   "cell_type": "code",
   "execution_count": 51,
   "id": "a5576333-0603-4594-b06a-9ad5f436f903",
   "metadata": {},
   "outputs": [
    {
     "data": {
      "text/html": [
       "<div>\n",
       "<style scoped>\n",
       "    .dataframe tbody tr th:only-of-type {\n",
       "        vertical-align: middle;\n",
       "    }\n",
       "\n",
       "    .dataframe tbody tr th {\n",
       "        vertical-align: top;\n",
       "    }\n",
       "\n",
       "    .dataframe thead th {\n",
       "        text-align: right;\n",
       "    }\n",
       "</style>\n",
       "<table border=\"1\" class=\"dataframe\">\n",
       "  <thead>\n",
       "    <tr style=\"text-align: right;\">\n",
       "      <th></th>\n",
       "      <th>Region</th>\n",
       "      <th>total_twitterers</th>\n",
       "    </tr>\n",
       "  </thead>\n",
       "  <tbody>\n",
       "    <tr>\n",
       "      <th>0</th>\n",
       "      <td>North America</td>\n",
       "      <td>1936073</td>\n",
       "    </tr>\n",
       "    <tr>\n",
       "      <th>1</th>\n",
       "      <td>Europe</td>\n",
       "      <td>413332</td>\n",
       "    </tr>\n",
       "    <tr>\n",
       "      <th>2</th>\n",
       "      <td>Asia</td>\n",
       "      <td>330740</td>\n",
       "    </tr>\n",
       "    <tr>\n",
       "      <th>3</th>\n",
       "      <td>Africa</td>\n",
       "      <td>320432</td>\n",
       "    </tr>\n",
       "    <tr>\n",
       "      <th>4</th>\n",
       "      <td>Oceania</td>\n",
       "      <td>38538</td>\n",
       "    </tr>\n",
       "    <tr>\n",
       "      <th>5</th>\n",
       "      <td>South America</td>\n",
       "      <td>28898</td>\n",
       "    </tr>\n",
       "  </tbody>\n",
       "</table>\n",
       "</div>"
      ],
      "text/plain": [
       "          Region  total_twitterers\n",
       "0  North America           1936073\n",
       "1         Europe            413332\n",
       "2           Asia            330740\n",
       "3         Africa            320432\n",
       "4        Oceania             38538\n",
       "5  South America             28898"
      ]
     },
     "execution_count": 51,
     "metadata": {},
     "output_type": "execute_result"
    }
   ],
   "source": [
    "conts_acc.head(6)"
   ]
  },
  {
   "cell_type": "code",
   "execution_count": null,
   "id": "9ca03729-b58f-416a-bc22-58a9b6e00bf4",
   "metadata": {},
   "outputs": [],
   "source": [
    "sns.set_style(\"white\")\n",
    "\n",
    "_, axes = plt.subplots(nrows=1, ncols=1, figsize=(9, 7))\n",
    "#sns.barplot(x='tweet_type',data=num_tweets, ax=axes, palette='pastel',order=num_tweets['count'].value_counts().index)\n",
    "\n",
    "sns.barplot(x=\"Region\", y=\"total_twitterers\", data=conts_acc.head(6), palette=\"pastel\")\n",
    "\n",
    "#axes.set_xticklabels(x_labels)\n",
    "\n",
    "plt.title('Continents - Most number of Twitterers')\n",
    "plt.xlabel('Continents')\n",
    "plt.ylabel('Number of Twitterers')\n",
    "\n",
    "sns.despine()\n",
    "plt.xticks(rotation=45)\n",
    "\n",
    "plt.show()"
   ]
  },
  {
   "cell_type": "markdown",
   "id": "03261409-22dc-4101-83a7-190aa5003ea4",
   "metadata": {},
   "source": [
    "### Country-wise analysis"
   ]
  },
  {
   "cell_type": "code",
   "execution_count": 16,
   "id": "697b6bc5-81b4-4f36-abbf-663d7e246ce8",
   "metadata": {},
   "outputs": [
    {
     "name": "stdout",
     "output_type": "stream",
     "text": [
      "Collecting pycountry\n",
      "  Downloading pycountry-22.3.5.tar.gz (10.1 MB)\n",
      "\u001b[2K     \u001b[90m━━━━━━━━━━━━━━━━━━━━━━━━━━━━━━━━━━━━━━━━\u001b[0m \u001b[32m10.1/10.1 MB\u001b[0m \u001b[31m49.3 MB/s\u001b[0m eta \u001b[36m0:00:00\u001b[0m00:01\u001b[0m0:01\u001b[0m\n",
      "\u001b[?25h  Installing build dependencies ... \u001b[?25ldone\n",
      "\u001b[?25h  Getting requirements to build wheel ... \u001b[?25ldone\n",
      "\u001b[?25h  Preparing metadata (pyproject.toml) ... \u001b[?25ldone\n",
      "\u001b[?25hRequirement already satisfied: setuptools in /opt/conda/miniconda3/lib/python3.8/site-packages (from pycountry) (59.8.0)\n",
      "Building wheels for collected packages: pycountry\n",
      "  Building wheel for pycountry (pyproject.toml) ... \u001b[?25ldone\n",
      "\u001b[?25h  Created wheel for pycountry: filename=pycountry-22.3.5-py2.py3-none-any.whl size=10681832 sha256=d98f048f098ba215c8d479685e26302ed121d3bc8e61f28641c70b0fb1a10cec\n",
      "  Stored in directory: /root/.cache/pip/wheels/e2/aa/0f/c224e473b464387170b83ca7c66947b4a7e33e8d903a679748\n",
      "Successfully built pycountry\n",
      "Installing collected packages: pycountry\n",
      "Successfully installed pycountry-22.3.5\n",
      "\u001b[33mWARNING: Running pip as the 'root' user can result in broken permissions and conflicting behaviour with the system package manager. It is recommended to use a virtual environment instead: https://pip.pypa.io/warnings/venv\u001b[0m\u001b[33m\n",
      "\u001b[0mNote: you may need to restart the kernel to use updated packages.\n"
     ]
    }
   ],
   "source": [
    "pip install pycountry"
   ]
  },
  {
   "cell_type": "code",
   "execution_count": 17,
   "id": "142b8212-e6d5-4688-ab38-8c8cacc97552",
   "metadata": {},
   "outputs": [],
   "source": [
    "import pycountry"
   ]
  },
  {
   "cell_type": "code",
   "execution_count": 53,
   "id": "b1b3b077-b034-4b8e-90cd-df4a6f9be30c",
   "metadata": {},
   "outputs": [],
   "source": [
    "all_ctry = [country.name for country in pycountry.countries]\n",
    "all_ctry = '|'.join([(country) for country in all_countries])"
   ]
  },
  {
   "cell_type": "code",
   "execution_count": 14,
   "id": "cf3d0ef2-2599-42b8-b96f-66c0055ff17b",
   "metadata": {},
   "outputs": [],
   "source": [
    "na_ctry = my_world.get_countries_list_of('North America')\n",
    "sa_ctry = my_world.get_countries_list_of('South America')\n",
    "eu_ctry = my_world.get_countries_list_of('Europe')\n",
    "as_ctry = my_world.get_countries_list_of('Asia')\n",
    "oc_ctry = my_world.get_countries_list_of('Oceania')\n",
    "af_ctry = my_world.get_countries_list_of('Africa')\n",
    "\n",
    "# Combine all country lists into a single list\n",
    "all_ctry = na_ctry + sa_ctry + eu_ctry + as_ctry + oc_ctry + af_ctry"
   ]
  },
  {
   "cell_type": "code",
   "execution_count": 61,
   "id": "92d28d94-0b2a-412c-acd8-cff2793063bb",
   "metadata": {},
   "outputs": [
    {
     "name": "stderr",
     "output_type": "stream",
     "text": [
      "                                                                                \r"
     ]
    },
    {
     "data": {
      "text/html": [
       "<table border='1'>\n",
       "<tr><th>account_location</th><th>total_twitterers</th><th>country</th></tr>\n",
       "<tr><td>Québec, Canada</td><td>593</td><td>Canada</td></tr>\n",
       "<tr><td>‘Politics Means P...</td><td>1</td><td>null</td></tr>\n",
       "<tr><td>Bengaluru, India</td><td>5239</td><td>India</td></tr>\n",
       "<tr><td>Chandigarh, India</td><td>997</td><td>India</td></tr>\n",
       "<tr><td>The Cenotaph, Hon...</td><td>1</td><td>Hong Kong</td></tr>\n",
       "<tr><td>Loveland, CO</td><td>143</td><td>null</td></tr>\n",
       "<tr><td>what&#x27;s the point ...</td><td>1</td><td>null</td></tr>\n",
       "<tr><td>Somewhere in the ...</td><td>213</td><td>null</td></tr>\n",
       "<tr><td>Cleveland, OH</td><td>4583</td><td>null</td></tr>\n",
       "<tr><td>Rio de Janeiro, B...</td><td>1506</td><td>null</td></tr>\n",
       "</table>\n"
      ],
      "text/plain": [
       "+--------------------+----------------+-------+\n",
       "|    account_location|total_twitterers|country|\n",
       "+--------------------+----------------+-------+\n",
       "|    Bengaluru, India|            5239|  India|\n",
       "|     South Carolina |             156|   null|\n",
       "|       Cleveland, OH|            4583|   null|\n",
       "|  Alice Smith School|               1|   null|\n",
       "|Boston, Massachus...|             247|   null|\n",
       "|         212 née 313|               1|   null|\n",
       "|   Chandigarh, India|             997|  India|\n",
       "| Mingyu's pants 🇧🇷|               1|   null|\n",
       "|   French Valley, CA|               7|   null|\n",
       "|      Hidden leaf 📍|               1|   null|\n",
       "+--------------------+----------------+-------+"
      ]
     },
     "execution_count": 61,
     "metadata": {},
     "output_type": "execute_result"
    }
   ],
   "source": [
    "import pyspark.sql.functions as F\n",
    "get_country = F.udf(lambda loc: next((c for c in all_ctry if loc and c.lower() in loc.lower()), None))\n",
    "\n",
    "# Add a new column that contains the name of the matching country\n",
    "df_loc1 = df_loc.withColumn('country', get_country('account_location'))\n",
    "\n",
    "# Show the first 10 rows of the DataFrame\n",
    "df_loc1.limit(10)\n"
   ]
  },
  {
   "cell_type": "code",
   "execution_count": 67,
   "id": "821c15ab-23f3-4e3b-868d-65ed19dc86b2",
   "metadata": {},
   "outputs": [
    {
     "name": "stderr",
     "output_type": "stream",
     "text": [
      "                                                                                \r"
     ]
    },
    {
     "data": {
      "text/html": [
       "<table border='1'>\n",
       "<tr><th>account_location</th><th>total_twitterers</th><th>country</th><th>usa</th></tr>\n",
       "<tr><td>Third Rock from t...</td><td>31</td><td>null</td><td>null</td></tr>\n",
       "<tr><td>Bengaluru, India</td><td>5239</td><td>India</td><td>null</td></tr>\n",
       "<tr><td>South Carolina </td><td>156</td><td>null</td><td>United States</td></tr>\n",
       "<tr><td>Cleveland, OH</td><td>4583</td><td>null</td><td>United States</td></tr>\n",
       "<tr><td>Fremont OH</td><td>1</td><td>null</td><td>United States</td></tr>\n",
       "<tr><td>𝚀𝚒𝚗</td><td>1</td><td>null</td><td>null</td></tr>\n",
       "<tr><td>Cape Coast, Ghana</td><td>221</td><td>Ghana</td><td>null</td></tr>\n",
       "<tr><td>recorriendo el mu...</td><td>1</td><td>null</td><td>null</td></tr>\n",
       "<tr><td>Patna, India</td><td>1537</td><td>India</td><td>null</td></tr>\n",
       "<tr><td>Atlantis </td><td>41</td><td>null</td><td>null</td></tr>\n",
       "<tr><td>Boston, Massachus...</td><td>247</td><td>null</td><td>United States</td></tr>\n",
       "<tr><td>Waverly, MI</td><td>7</td><td>null</td><td>United States</td></tr>\n",
       "<tr><td>Somewhere in the ...</td><td>213</td><td>null</td><td>null</td></tr>\n",
       "<tr><td>Alameda, CA (The ...</td><td>1</td><td>null</td><td>United States</td></tr>\n",
       "<tr><td>Somewhere in Texas</td><td>94</td><td>null</td><td>United States</td></tr>\n",
       "<tr><td>尹材赫  朴炡禹</td><td>1</td><td>null</td><td>null</td></tr>\n",
       "<tr><td>Chandigarh, India</td><td>997</td><td>India</td><td>null</td></tr>\n",
       "<tr><td>Kadoma-shi, Osaka</td><td>1</td><td>null</td><td>null</td></tr>\n",
       "<tr><td>Weston-super-Mare</td><td>22</td><td>null</td><td>null</td></tr>\n",
       "<tr><td>Oxford, England</td><td>1581</td><td>null</td><td>null</td></tr>\n",
       "</table>\n"
      ],
      "text/plain": [
       "+----------------------+----------------+--------------+-------------+\n",
       "|      account_location|total_twitterers|       country|          usa|\n",
       "+----------------------+----------------+--------------+-------------+\n",
       "|  iPhone: 40.730186...|               1|          null|         null|\n",
       "|         Mount Olympus|              61|          null|         null|\n",
       "|             Milky way|              81|          null|         null|\n",
       "|  Salt Lake City, Utah|             365|          null|United States|\n",
       "|             Planet 51|               1|          null|         null|\n",
       "|     Virginia/Florida |               1|          null|United States|\n",
       "|  London-United Kin...|               1|United Kingdom|         null|\n",
       "|                    CT|             619|          null|United States|\n",
       "|               Europe |             186|          null|         null|\n",
       "|(つ≧▽≦)つ me to my ...|               1|          null|         null|\n",
       "|  Beautilful Bloomi...|               1|          null|United States|\n",
       "|             Somewhere|            2208|          null|         null|\n",
       "|  🇨🇺🇿🇦🇮🇩🇮🇳🇲🇼|               1|          null|         null|\n",
       "|  the Lair, Colorad...|               1|          null|United States|\n",
       "|     Pacific Northwest|             689|          null|         null|\n",
       "|《 🇲🇾 》• any prn...|               1|          null|United States|\n",
       "|  Uddingston - Sout...|               1|          null|         null|\n",
       "|               Various|              42|          null|         null|\n",
       "|             miami, fl|              37|          null|         null|\n",
       "|   England || Nigeria |               1|         Niger|         null|\n",
       "+----------------------+----------------+--------------+-------------+"
      ]
     },
     "execution_count": 67,
     "metadata": {},
     "output_type": "execute_result"
    }
   ],
   "source": [
    "usa = [ 'USA','US','United States','United States of America','AK', 'AL', 'AR', 'AZ', 'CA', 'CO', 'CT', 'DC', 'DE', 'FL', 'GA',\n",
    "           'HI', 'IA', 'ID', 'IL', 'IN', 'KS', 'KY', 'LA', 'MA', 'MD', 'ME',\n",
    "           'MI', 'MN', 'MO', 'MS', 'MT', 'NC', 'ND', 'NE', 'NH', 'NJ', 'NM',\n",
    "           'NV', 'NY', 'OH', 'OK', 'OR', 'PA', 'RI', 'SC', 'SD', 'TN', 'TX',\n",
    "           'UT', 'VA', 'VT', 'WA', 'WI', 'WV', 'WY', \"Aberdeen\", \"Abilene\", \"Akron\", \"Albany\", \n",
    "             \"Albuquerque\", \"Alexandria\", \"Allentown\", \"Amarillo\", \"Anaheim\", \"Anchorage\", \n",
    "             \"Ann Arbor\", \"Antioch\", \"Apple Valley\", \"Appleton\", \"Arlington\", \"Arvada\", \n",
    "             \"Asheville\", \"Athens\", \"Atlanta\", \"Atlantic City\", \"Augusta\", \"Aurora\", \"Austin\", \n",
    "             \"Bakersfield\", \"Baltimore\", \"Barnstable\", \"Baton Rouge\", \"Beaumont\", \"Bel Air\", \n",
    "             \"Bellevue\", \"Berkeley\", \"Bethlehem\", \"Billings\", \"Birmingham\", \"Bloomington\", \n",
    "             \"Boise\", \"Boise City\", \"Bonita Springs\", \"Boston\", \"Boulder\", \"Bradenton\", \"Bremerton\", \n",
    "             \"Bridgeport\", \"Brighton\", \"Brownsville\", \"Bryan\", \"Buffalo\", \"Burbank\", \"Burlington\", \n",
    "             \"Cambridge\", \"Canton\", \"Cape Coral\", \"Carrollton\", \"Cary\", \"Cathedral City\", \n",
    "             \"Cedar Rapids\", \"Champaign\", \"Chandler\", \"Charleston\", \"Charlotte\", \"Chattanooga\", \n",
    "             \"Chesapeake\", \"Chicago\", \"Chula Vista\", \"Cincinnati\", \"Clarke County\", \"Clarksville\", \n",
    "             \"Clearwater\", \"Cleveland\", \"College Station\", \"Colorado Springs\", \"Columbia\", \"Columbus\", \"Concord\", \"Coral Springs\", \"Corona\", \"Corpus Christi\", \"Costa Mesa\", \"Dallas\", \"Daly City\", \"Danbury\", \"Davenport\", \"Davidson County\", \"Dayton\", \"Daytona Beach\", \"Deltona\", \"Denton\", \"Denver\", \"Des Moines\", \"Detroit\", \"Downey\", \"Duluth\", \"Durham\", \"El Monte\", \"El Paso\", \"Elizabeth\", \"Elk Grove\", \"Elkhart\", \"Erie\", \"Escondido\", \"Eugene\", \"Evansville\", \"Fairfield\", \"Fargo\", \"Fayetteville\", \"Fitchburg\", \"Flint\", \"Fontana\", \"Fort Collins\", \"Fort Lauderdale\", \"Fort Smith\", \"Fort Walton Beach\", \"Fort Wayne\", \"Fort Worth\", \"Frederick\", \"Fremont\", \"Fresno\", \"Fullerton\", \"Gainesville\", \"Garden Grove\", \"Garland\", \"Gastonia\", \"Gilbert\", \"Glendale\", \"Grand Prairie\", \"Grand Rapids\", \"Grayslake\", \"Green Bay\", \"GreenBay\", \"Greensboro\", \"Greenville\", \"Gulfport-Biloxi\", \"Hagerstown\", \"Hampton\", \"Harlingen\", \"Harrisburg\", \"Hartford\", \"Havre de Grace\", \"Hayward\", \"Hemet\", \"Henderson\", \"Hesperia\", \"Hialeah\", \"Hickory\", \"High Point\", \"Hollywood\", \"Honolulu\", \"Houma\", \"Houston\", \"Howell\", \"Huntington\", \"Huntington Beach\", \"Huntsville\", \"Independence\", \"Indianapolis\", \"Inglewood\", \"Irvine\", \"Irving\", \"Jackson\", \"Jacksonville\", \"Jefferson\", \"Jersey City\", \"Johnson City\", \"Joliet\", \"Kailua\", \"Kalamazoo\", \"Kaneohe\", \"Kansas City\", \"Kennewick\", \"Kenosha\", \"Killeen\", \"Kissimmee\", \"Knoxville\", \"Lacey\", \"Lafayette\", \"Lake Charles\", \"Lakeland\", \"Lakewood\", \"Lancaster\", \"Lansing\", \"Laredo\", \"Las Cruces\", \"Las Vegas\", \"Layton\", \"Leominster\", \"Lewisville\", \"Lexington\", \"Lincoln\", \"Little Rock\", \"Long Beach\", \"Lorain\", \"Los Angeles\", \"Louisville\", \"Lowell\", \"Lubbock\", \"Macon\", \"Madison\", \"Manchester\", \"Marina\", \"Marysville\", \"McAllen\", \"McHenry\", \"Medford\", \"Melbourne\", \"Memphis\", \"Merced\", \"Mesa\", \"Mesquite\", \"Miami\", \"Milwaukee\", \"Minneapolis\", \"Miramar\", \"Mission Viejo\", \"Mobile\", \"Modesto\", \"Monroe\", \"Monterey\", \"Montgomery\", \"Moreno Valley\", \"Murfreesboro\", \"Murrieta\", \"Muskegon\", \"Myrtle Beach\", \"Naperville\", \"Naples\", \"Nashua\", \"Nashville\", \"New Bedford\", \"New Haven\", \"New London\", \"New Orleans\", \"New York\", \"New York City\", \"Newark\", \"Newburgh\", \"Newport News\", \"Norfolk\", \"Normal\", \"Norman\", \"North Charleston\", \"North Las Vegas\", \"North Port\", \"Norwalk\", \"Norwich\", \"Oakland\", \"Ocala\", \"Oceanside\", \"Odessa\", \"Ogden\", \"Oklahoma City\", \"Olathe\", \"Olympia\", \"Omaha\", \"Ontario\", \"Orange\", \"Orem\", \"Orlando\", \"Overland Park\", \"Oxnard\", \"Palm Bay\", \"Palm Springs\", \"Palmdale\", \"Panama City\", \"Pasadena\", \"Paterson\", \"Pembroke Pines\", \"Pensacola\", \"Peoria\", \"Philadelphia\", \"Phoenix\", \"Pittsburgh\", \"Plano\", \"Pomona\", \"Pompano Beach\", \"Port Arthur\", \"Port Orange\", \"Port Saint Lucie\", \"Port St. Lucie\", \"Portland\", \"Portsmouth\", \"Poughkeepsie\", \"Providence\", \"Provo\", \"Pueblo\", \"Punta Gorda\", \"Racine\", \"Raleigh\", \"Rancho Cucamonga\", \"Reading\", \"Redding\", \"Reno\", \"Richland\", \"Richmond\", \"Richmond County\", \"Riverside\", \"Roanoke\", \"Rochester\", \"Rockford\", \"Roseville\", \"Round Lake Beach\", \"Sacramento\", \"Saginaw\", \"Saint Louis\", \"Saint Paul\", \"Saint Petersburg\", \"Salem\", \"Salinas\", \"Salt Lake City\", \"San Antonio\", \"San Bernardino\", \"San Buenaventura\", \"San Diego\", \"San Francisco\", \"San Jose\", \"Santa Ana\", \"Santa Barbara\", \"Santa Clara\", \"Santa Clarita\", \"Santa Cruz\", \"Santa Maria\", \"Santa Rosa\", \"Sarasota\", \"Savannah\", \"Scottsdale\", \"Scranton\", \"Seaside\", \"Seattle\", \"Sebastian\", \"Shreveport\", \"Simi Valley\", \"Sioux City\", \"Sioux Falls\", \"South Bend\", \"South Lyon\", \"Spartanburg\", \"Spokane\", \"Springdale\", \"Springfield\", \"St. Louis\", \"St. Paul\", \"St. Petersburg\", \"Stamford\", \"Sterling Heights\", \"Stockton\", \"Sunnyvale\", \"Syracuse\", \"Tacoma\", \"Tallahassee\", \"Tampa\", \"Temecula\", \"Tempe\", \"Thornton\", \"Thousand Oaks\", \"Toledo\", \"Topeka\", \"Torrance\", \"Trenton\", \"Tucson\", \"Tulsa\", \"Tuscaloosa\", \"Tyler\", \"Utica\", \"Vallejo\", \"Vancouver\", \"Vero Beach\", \"Victorville\", \"Virginia Beach\", \"Visalia\", \"Waco\", \"Warren\", \"Washington\", \"Waterbury\", \"Waterloo\", \"West Covina\", \"West Valley City\", \"Westminster\", \"Wichita\", \n",
    "             \"Wilmington\", \"Winston\", \"Winter Haven\", \"Worcester\", \"Yakima\", \"Yonkers\", \"York\", \"Youngstown\",\n",
    "       \"Alaska\", \"Alabama\", \"Arkansas\", \"American Samoa\", \"Arizona\", \"California\", \"Colorado\", \"Connecticut\", \"District \", \"of Columbia\", \"Delaware\", \"Florida\", \"Georgia\", \"Guam\", \"Hawaii\", \"Iowa\", \"Idaho\", \"Illinois\", \"Indiana\", \"Kansas\", \"Kentucky\", \"Louisiana\", \"Massachusetts\", \"Maryland\", \"Maine\", \"Michigan\", \"Minnesota\", \"Missouri\", \"Mississippi\", \"Montana\", \"North Carolina\", \"North Dakota\", \"Nebraska\", \"New Hampshire\", \"New Jersey\", \"New Mexico\", \"Nevada\", \"New York\", \"Ohio\", \"Oklahoma\", \"Oregon\", \"Pennsylvania\", \"Puerto Rico\", \"Rhode Island\", \"South Carolina\", \"South Dakota\", \"Tennessee\", \"Texas\", \"Utah\", \"Virginia\", \"Virgin Islands\", \"Vermont\", \"Washington\", \"Wisconsin\", \"West Virginia\", \"Wyoming\"]\n",
    "\n",
    "#get_usa = F.udf(lambda loc: next((c for c in usa if loc), None))\n",
    "#df_loc2 = df_loc1.withColumn('usa', get_usa('account_location'))\n",
    "\n",
    "usa_st='|'.join([c for c in usa])\n",
    "\n",
    "\n",
    "df_loc2=df_loc1\\\n",
    ".withColumn('usa',\\\n",
    "            when(df_loc1['account_location'].rlike(usa_st), 'United States')\\\n",
    "            .otherwise(None))\n",
    "\n",
    "df_loc2.limit(20)\n"
   ]
  },
  {
   "cell_type": "code",
   "execution_count": 73,
   "id": "bd94a427-402b-4d38-a5ab-f180ad6906eb",
   "metadata": {},
   "outputs": [],
   "source": [
    "df_loc3 = df_loc2\\\n",
    ".withColumn('country_final',\\\n",
    "            when(df_loc2['country']!='null',df_loc2['country'])\\\n",
    "            .when(df_loc2['usa']!='null',df_loc2['usa'])\\\n",
    "            .otherwise(None))"
   ]
  },
  {
   "cell_type": "code",
   "execution_count": 74,
   "id": "508da681-f8bc-4098-824c-e616c065b220",
   "metadata": {},
   "outputs": [
    {
     "name": "stderr",
     "output_type": "stream",
     "text": [
      "                                                                                \r"
     ]
    },
    {
     "data": {
      "text/html": [
       "<table border='1'>\n",
       "<tr><th>account_location</th><th>total_twitterers</th><th>country</th><th>usa</th><th>country_final</th></tr>\n",
       "<tr><td>Grandma&#x27;s SUV</td><td>1</td><td>null</td><td>null</td><td>null</td></tr>\n",
       "<tr><td>Brooklyn, NYC ➡️ ...</td><td>1</td><td>null</td><td>United States</td><td>United States</td></tr>\n",
       "<tr><td>Newcastle Upon Ty...</td><td>1353</td><td>null</td><td>null</td><td>null</td></tr>\n",
       "<tr><td>Trinidad</td><td>163</td><td>null</td><td>null</td><td>null</td></tr>\n",
       "<tr><td>Reno, NV</td><td>1122</td><td>null</td><td>United States</td><td>United States</td></tr>\n",
       "<tr><td>Doylestown, Pa</td><td>2</td><td>null</td><td>null</td><td>null</td></tr>\n",
       "<tr><td>TRUMP LAND 🚂💨💨...</td><td>1</td><td>null</td><td>United States</td><td>United States</td></tr>\n",
       "<tr><td>Getting 1% better...</td><td>1</td><td>null</td><td>null</td><td>null</td></tr>\n",
       "<tr><td>南京玄武</td><td>1</td><td>null</td><td>null</td><td>null</td></tr>\n",
       "<tr><td>Natick, MA</td><td>64</td><td>null</td><td>United States</td><td>United States</td></tr>\n",
       "</table>\n"
      ],
      "text/plain": [
       "+--------------------+----------------+-----------+-------------+-------------+\n",
       "|    account_location|total_twitterers|    country|          usa|country_final|\n",
       "+--------------------+----------------+-----------+-------------+-------------+\n",
       "|               OH-07|               2|       null|United States|United States|\n",
       "|      The Love Below|               4|       null|         null|         null|\n",
       "|  Caracas, Venezuela|             482|  Venezuela|         null|    Venezuela|\n",
       "|    College Park, GA|             141|       null|United States|United States|\n",
       "|Lahore, Abu Dhabi...|               1|       null|         null|         null|\n",
       "|      Lower Arkansas|               1|       null|United States|United States|\n",
       "|     Afghanistan/US |               1|Afghanistan|United States|  Afghanistan|\n",
       "|              Heaven|             853|       null|         null|         null|\n",
       "|            Novi, MI|             117|       null|United States|United States|\n",
       "|           Worcester|             107|       null|United States|United States|\n",
       "+--------------------+----------------+-----------+-------------+-------------+"
      ]
     },
     "execution_count": 74,
     "metadata": {},
     "output_type": "execute_result"
    }
   ],
   "source": [
    "df_loc3.limit(10)"
   ]
  },
  {
   "cell_type": "code",
   "execution_count": 75,
   "id": "611192ae-86af-448a-bef0-3fbb6cc8d1df",
   "metadata": {},
   "outputs": [
    {
     "name": "stderr",
     "output_type": "stream",
     "text": [
      "                                                                                \r"
     ]
    }
   ],
   "source": [
    "cont_acc=df_loc3.groupBy('country_final').agg(sum('total_twitterers').alias('total_twitterers'))\\\n",
    ".orderBy('total_twitterers',ascending=False).toPandas()"
   ]
  },
  {
   "cell_type": "code",
   "execution_count": 77,
   "id": "4b9fcc6d-d031-442a-9324-6ec0280537c1",
   "metadata": {},
   "outputs": [
    {
     "data": {
      "text/html": [
       "<div>\n",
       "<style scoped>\n",
       "    .dataframe tbody tr th:only-of-type {\n",
       "        vertical-align: middle;\n",
       "    }\n",
       "\n",
       "    .dataframe tbody tr th {\n",
       "        vertical-align: top;\n",
       "    }\n",
       "\n",
       "    .dataframe thead th {\n",
       "        text-align: right;\n",
       "    }\n",
       "</style>\n",
       "<table border=\"1\" class=\"dataframe\">\n",
       "  <thead>\n",
       "    <tr style=\"text-align: right;\">\n",
       "      <th></th>\n",
       "      <th>country_final</th>\n",
       "      <th>total_twitterers</th>\n",
       "    </tr>\n",
       "  </thead>\n",
       "  <tbody>\n",
       "    <tr>\n",
       "      <th>0</th>\n",
       "      <td>None</td>\n",
       "      <td>4965440</td>\n",
       "    </tr>\n",
       "    <tr>\n",
       "      <th>1</th>\n",
       "      <td>United States</td>\n",
       "      <td>1884176</td>\n",
       "    </tr>\n",
       "    <tr>\n",
       "      <th>2</th>\n",
       "      <td>India</td>\n",
       "      <td>175063</td>\n",
       "    </tr>\n",
       "    <tr>\n",
       "      <th>3</th>\n",
       "      <td>Niger</td>\n",
       "      <td>139407</td>\n",
       "    </tr>\n",
       "    <tr>\n",
       "      <th>4</th>\n",
       "      <td>Canada</td>\n",
       "      <td>57861</td>\n",
       "    </tr>\n",
       "    <tr>\n",
       "      <th>5</th>\n",
       "      <td>South Africa</td>\n",
       "      <td>55738</td>\n",
       "    </tr>\n",
       "    <tr>\n",
       "      <th>6</th>\n",
       "      <td>United Kingdom</td>\n",
       "      <td>46036</td>\n",
       "    </tr>\n",
       "    <tr>\n",
       "      <th>7</th>\n",
       "      <td>Kenya</td>\n",
       "      <td>45846</td>\n",
       "    </tr>\n",
       "    <tr>\n",
       "      <th>8</th>\n",
       "      <td>Pakistan</td>\n",
       "      <td>40208</td>\n",
       "    </tr>\n",
       "    <tr>\n",
       "      <th>9</th>\n",
       "      <td>Australia</td>\n",
       "      <td>30430</td>\n",
       "    </tr>\n",
       "    <tr>\n",
       "      <th>10</th>\n",
       "      <td>Ireland</td>\n",
       "      <td>24973</td>\n",
       "    </tr>\n",
       "    <tr>\n",
       "      <th>11</th>\n",
       "      <td>Ghana</td>\n",
       "      <td>23772</td>\n",
       "    </tr>\n",
       "    <tr>\n",
       "      <th>12</th>\n",
       "      <td>Uganda</td>\n",
       "      <td>21294</td>\n",
       "    </tr>\n",
       "    <tr>\n",
       "      <th>13</th>\n",
       "      <td>Jersey</td>\n",
       "      <td>20992</td>\n",
       "    </tr>\n",
       "    <tr>\n",
       "      <th>14</th>\n",
       "      <td>France</td>\n",
       "      <td>20165</td>\n",
       "    </tr>\n",
       "    <tr>\n",
       "      <th>15</th>\n",
       "      <td>Indonesia</td>\n",
       "      <td>16169</td>\n",
       "    </tr>\n",
       "    <tr>\n",
       "      <th>16</th>\n",
       "      <td>Philippines</td>\n",
       "      <td>15241</td>\n",
       "    </tr>\n",
       "    <tr>\n",
       "      <th>17</th>\n",
       "      <td>Georgia</td>\n",
       "      <td>14277</td>\n",
       "    </tr>\n",
       "    <tr>\n",
       "      <th>18</th>\n",
       "      <td>Malaysia</td>\n",
       "      <td>13849</td>\n",
       "    </tr>\n",
       "    <tr>\n",
       "      <th>19</th>\n",
       "      <td>Germany</td>\n",
       "      <td>12856</td>\n",
       "    </tr>\n",
       "  </tbody>\n",
       "</table>\n",
       "</div>"
      ],
      "text/plain": [
       "     country_final  total_twitterers\n",
       "0             None           4965440\n",
       "1    United States           1884176\n",
       "2            India            175063\n",
       "3            Niger            139407\n",
       "4           Canada             57861\n",
       "5     South Africa             55738\n",
       "6   United Kingdom             46036\n",
       "7            Kenya             45846\n",
       "8         Pakistan             40208\n",
       "9        Australia             30430\n",
       "10         Ireland             24973\n",
       "11           Ghana             23772\n",
       "12          Uganda             21294\n",
       "13          Jersey             20992\n",
       "14          France             20165\n",
       "15       Indonesia             16169\n",
       "16     Philippines             15241\n",
       "17         Georgia             14277\n",
       "18        Malaysia             13849\n",
       "19         Germany             12856"
      ]
     },
     "execution_count": 77,
     "metadata": {},
     "output_type": "execute_result"
    }
   ],
   "source": [
    "cont_acc.head(20)"
   ]
  },
  {
   "cell_type": "code",
   "execution_count": 78,
   "id": "25e3ba0d-7508-45ff-8f97-5255d844a8b3",
   "metadata": {},
   "outputs": [],
   "source": [
    "cont_acc.to_csv('countries_users.csv', index=False)\n"
   ]
  },
  {
   "cell_type": "markdown",
   "id": "fae41317-b985-44a5-9476-902bfc0e3e6f",
   "metadata": {},
   "source": [
    "### Adding location to the main data frame"
   ]
  },
  {
   "cell_type": "code",
   "execution_count": 13,
   "id": "9f2f199b-6cf9-4092-b31f-01bce3af7dad",
   "metadata": {},
   "outputs": [
    {
     "name": "stderr",
     "output_type": "stream",
     "text": [
      "                                                                                \r"
     ]
    },
    {
     "data": {
      "text/html": [
       "<table border='1'>\n",
       "<tr><th>id</th><th>tweet_type</th><th>account_name</th><th>account_location</th></tr>\n",
       "<tr><td>1539335991672000512</td><td>reply</td><td>GigadanielO</td><td>null</td></tr>\n",
       "<tr><td>1539335994729811970</td><td>retweet</td><td>CanadianHonours</td><td>Ottawa, Ontario</td></tr>\n",
       "<tr><td>1539335994503311361</td><td>retweet</td><td>_iwannaRAVE</td><td>Columbia.</td></tr>\n",
       "<tr><td>1539335994981330944</td><td>original_tweet</td><td>AndyVermaut</td><td>Diksmuide, België</td></tr>\n",
       "<tr><td>1539335995199479809</td><td>quote</td><td>sarge_ye</td><td>null</td></tr>\n",
       "<tr><td>1539335995845402624</td><td>retweet</td><td>NEAToday</td><td>Washington DC</td></tr>\n",
       "<tr><td>1539335997506428928</td><td>retweet</td><td>EvanMHarris</td><td>NJ</td></tr>\n",
       "<tr><td>1539335997510623233</td><td>reply</td><td>TexasLucha</td><td>Austin, TX</td></tr>\n",
       "<tr><td>1539335997531557888</td><td>reply</td><td>AyeTok02463593</td><td>Ankara, Türkiye</td></tr>\n",
       "<tr><td>1539335999616126979</td><td>retweet</td><td>funmartman</td><td>null</td></tr>\n",
       "</table>\n"
      ],
      "text/plain": [
       "+-------------------+----------+---------------+--------------------+\n",
       "|                 id|tweet_type|   account_name|    account_location|\n",
       "+-------------------+----------+---------------+--------------------+\n",
       "|1566378682318462976|   retweet|    erin_gilbey| Birmingham, England|\n",
       "|1566378688698097664|   retweet|       Odeshiye|               Ghana|\n",
       "|1566378715709427719|   retweet| EuroAmerican87|Anywhere but here...|\n",
       "|1566378716887916546|   retweet|Bharath12450842|                null|\n",
       "|1566378724135555072|   retweet|       lvchdvmp|      archen's heart|\n",
       "|1566378734529101824|   retweet|        doyiea_|                null|\n",
       "|1566378741508734976|     reply|     thxteacher|                null|\n",
       "|1566378743710744576|   retweet|   shoaibAlam28|        Jamui, India|\n",
       "|1566378745539469312|     quote|      PaperupPh|           10AM-10PM|\n",
       "|1566378750090027008|   retweet|   ResisterNell|           Kentucky |\n",
       "+-------------------+----------+---------------+--------------------+"
      ]
     },
     "execution_count": 13,
     "metadata": {},
     "output_type": "execute_result"
    }
   ],
   "source": [
    "twitter_df5_loc=twitter_df5.select('id','tweet_type','account_name','account_location')\n",
    "twitter_df5_loc.limit(10)"
   ]
  },
  {
   "cell_type": "code",
   "execution_count": 15,
   "id": "ecff7ae8-49fa-4a2f-a1bd-3bdeaff2499c",
   "metadata": {},
   "outputs": [
    {
     "name": "stderr",
     "output_type": "stream",
     "text": [
      "                                                                                \r"
     ]
    },
    {
     "data": {
      "text/html": [
       "<table border='1'>\n",
       "<tr><th>id</th><th>tweet_type</th><th>account_name</th><th>account_location</th><th>country</th></tr>\n",
       "<tr><td>1539335991672000512</td><td>reply</td><td>GigadanielO</td><td>null</td><td>null</td></tr>\n",
       "<tr><td>1539335994729811970</td><td>retweet</td><td>CanadianHonours</td><td>Ottawa, Ontario</td><td>null</td></tr>\n",
       "<tr><td>1539335994503311361</td><td>retweet</td><td>_iwannaRAVE</td><td>Columbia.</td><td>null</td></tr>\n",
       "<tr><td>1539335994981330944</td><td>original_tweet</td><td>AndyVermaut</td><td>Diksmuide, België</td><td>null</td></tr>\n",
       "<tr><td>1539335995199479809</td><td>quote</td><td>sarge_ye</td><td>null</td><td>null</td></tr>\n",
       "<tr><td>1539335995845402624</td><td>retweet</td><td>NEAToday</td><td>Washington DC</td><td>null</td></tr>\n",
       "<tr><td>1539335997506428928</td><td>retweet</td><td>EvanMHarris</td><td>NJ</td><td>null</td></tr>\n",
       "<tr><td>1539335997510623233</td><td>reply</td><td>TexasLucha</td><td>Austin, TX</td><td>null</td></tr>\n",
       "<tr><td>1539335997531557888</td><td>reply</td><td>AyeTok02463593</td><td>Ankara, Türkiye</td><td>null</td></tr>\n",
       "<tr><td>1539335999616126979</td><td>retweet</td><td>funmartman</td><td>null</td><td>null</td></tr>\n",
       "</table>\n"
      ],
      "text/plain": [
       "+-------------------+--------------+---------------+--------------------+-------+\n",
       "|                 id|    tweet_type|   account_name|    account_location|country|\n",
       "+-------------------+--------------+---------------+--------------------+-------+\n",
       "|1598348248733089794|       retweet|Mohamma61323270|🌍All over the pl...|   null|\n",
       "|1598348256609697792|         reply|          japv1|                null|   null|\n",
       "|1598348267208728576|       retweet|    ORPHEUSGIRL|                null|   null|\n",
       "|1598348272954925057|       retweet|   MISSmatched_|                null|   null|\n",
       "|1598348274100244480|       retweet|         BKS135|               India|  India|\n",
       "|1598348274817433600|original_tweet|    IcyPotato03|                null|   null|\n",
       "|1598348280571772929|       retweet| preciouslife_2|      Twilight zone |   null|\n",
       "|1598348283176427520|       retweet|  mayaleiladora|          Boston, MA|   null|\n",
       "|1598348290093109248|         reply|    jigglepuddz|                null|   null|\n",
       "|1598348291623866374|         reply|LawrenceLinehan|1100-year-old cou...|   null|\n",
       "+-------------------+--------------+---------------+--------------------+-------+"
      ]
     },
     "execution_count": 15,
     "metadata": {},
     "output_type": "execute_result"
    }
   ],
   "source": [
    "import pyspark.sql.functions as F\n",
    "get_country = F.udf(lambda loc: next((c for c in all_ctry if loc and c.lower() in loc.lower()), None))\n",
    "\n",
    "# Add a new column that contains the name of the matching country\n",
    "twitter_df5_loc = twitter_df5_loc.withColumn('country', get_country('account_location'))\n",
    "\n",
    "# Show the first 10 rows of the DataFrame\n",
    "twitter_df5_loc.limit(10)"
   ]
  },
  {
   "cell_type": "code",
   "execution_count": 16,
   "id": "2ae861e9-327b-4959-a3ac-9325f0f75ad3",
   "metadata": {},
   "outputs": [
    {
     "name": "stderr",
     "output_type": "stream",
     "text": [
      "                                                                                \r"
     ]
    },
    {
     "data": {
      "text/html": [
       "<table border='1'>\n",
       "<tr><th>id</th><th>tweet_type</th><th>account_name</th><th>account_location</th><th>country</th><th>usa</th></tr>\n",
       "<tr><td>1539335991672000512</td><td>reply</td><td>GigadanielO</td><td>null</td><td>null</td><td>null</td></tr>\n",
       "<tr><td>1539335994729811970</td><td>retweet</td><td>CanadianHonours</td><td>Ottawa, Ontario</td><td>null</td><td>United States</td></tr>\n",
       "<tr><td>1539335994503311361</td><td>retweet</td><td>_iwannaRAVE</td><td>Columbia.</td><td>null</td><td>United States</td></tr>\n",
       "<tr><td>1539335994981330944</td><td>original_tweet</td><td>AndyVermaut</td><td>Diksmuide, België</td><td>null</td><td>null</td></tr>\n",
       "<tr><td>1539335995199479809</td><td>quote</td><td>sarge_ye</td><td>null</td><td>null</td><td>null</td></tr>\n",
       "<tr><td>1539335995845402624</td><td>retweet</td><td>NEAToday</td><td>Washington DC</td><td>null</td><td>United States</td></tr>\n",
       "<tr><td>1539335997506428928</td><td>retweet</td><td>EvanMHarris</td><td>NJ</td><td>null</td><td>United States</td></tr>\n",
       "<tr><td>1539335997510623233</td><td>reply</td><td>TexasLucha</td><td>Austin, TX</td><td>null</td><td>United States</td></tr>\n",
       "<tr><td>1539335997531557888</td><td>reply</td><td>AyeTok02463593</td><td>Ankara, Türkiye</td><td>null</td><td>null</td></tr>\n",
       "<tr><td>1539335999616126979</td><td>retweet</td><td>funmartman</td><td>null</td><td>null</td><td>null</td></tr>\n",
       "</table>\n"
      ],
      "text/plain": [
       "+-------------------+----------+---------------+--------------------+-------+-------------+\n",
       "|                 id|tweet_type|   account_name|    account_location|country|          usa|\n",
       "+-------------------+----------+---------------+--------------------+-------+-------------+\n",
       "|1566378682318462976|   retweet|    erin_gilbey| Birmingham, England|   null|United States|\n",
       "|1566378688698097664|   retweet|       Odeshiye|               Ghana|  Ghana|         null|\n",
       "|1566378715709427719|   retweet| EuroAmerican87|Anywhere but here...|   null|United States|\n",
       "|1566378716887916546|   retweet|Bharath12450842|                null|   null|         null|\n",
       "|1566378724135555072|   retweet|       lvchdvmp|      archen's heart|   null|         null|\n",
       "|1566378734529101824|   retweet|        doyiea_|                null|   null|         null|\n",
       "|1566378741508734976|     reply|     thxteacher|                null|   null|         null|\n",
       "|1566378743710744576|   retweet|   shoaibAlam28|        Jamui, India|  India|         null|\n",
       "|1566378745539469312|     quote|      PaperupPh|           10AM-10PM|   null|         null|\n",
       "|1566378750090027008|   retweet|   ResisterNell|           Kentucky |   null|United States|\n",
       "+-------------------+----------+---------------+--------------------+-------+-------------+"
      ]
     },
     "execution_count": 16,
     "metadata": {},
     "output_type": "execute_result"
    }
   ],
   "source": [
    "usa = [ 'USA','US','United States','United States of America','AK', 'AL', 'AR', 'AZ', 'CA', 'CO', 'CT', 'DC', 'DE', 'FL', 'GA',\n",
    "           'HI', 'IA', 'ID', 'IL', 'IN', 'KS', 'KY', 'LA', 'MA', 'MD', 'ME',\n",
    "           'MI', 'MN', 'MO', 'MS', 'MT', 'NC', 'ND', 'NE', 'NH', 'NJ', 'NM',\n",
    "           'NV', 'NY', 'OH', 'OK', 'OR', 'PA', 'RI', 'SC', 'SD', 'TN', 'TX',\n",
    "           'UT', 'VA', 'VT', 'WA', 'WI', 'WV', 'WY', \"Aberdeen\", \"Abilene\", \"Akron\", \"Albany\", \n",
    "             \"Albuquerque\", \"Alexandria\", \"Allentown\", \"Amarillo\", \"Anaheim\", \"Anchorage\", \n",
    "             \"Ann Arbor\", \"Antioch\", \"Apple Valley\", \"Appleton\", \"Arlington\", \"Arvada\", \n",
    "             \"Asheville\", \"Athens\", \"Atlanta\", \"Atlantic City\", \"Augusta\", \"Aurora\", \"Austin\", \n",
    "             \"Bakersfield\", \"Baltimore\", \"Barnstable\", \"Baton Rouge\", \"Beaumont\", \"Bel Air\", \n",
    "             \"Bellevue\", \"Berkeley\", \"Bethlehem\", \"Billings\", \"Birmingham\", \"Bloomington\", \n",
    "             \"Boise\", \"Boise City\", \"Bonita Springs\", \"Boston\", \"Boulder\", \"Bradenton\", \"Bremerton\", \n",
    "             \"Bridgeport\", \"Brighton\", \"Brownsville\", \"Bryan\", \"Buffalo\", \"Burbank\", \"Burlington\", \n",
    "             \"Cambridge\", \"Canton\", \"Cape Coral\", \"Carrollton\", \"Cary\", \"Cathedral City\", \n",
    "             \"Cedar Rapids\", \"Champaign\", \"Chandler\", \"Charleston\", \"Charlotte\", \"Chattanooga\", \n",
    "             \"Chesapeake\", \"Chicago\", \"Chula Vista\", \"Cincinnati\", \"Clarke County\", \"Clarksville\", \n",
    "             \"Clearwater\", \"Cleveland\", \"College Station\", \"Colorado Springs\", \"Columbia\", \"Columbus\", \"Concord\", \"Coral Springs\", \"Corona\", \"Corpus Christi\", \"Costa Mesa\", \"Dallas\", \"Daly City\", \"Danbury\", \"Davenport\", \"Davidson County\", \"Dayton\", \"Daytona Beach\", \"Deltona\", \"Denton\", \"Denver\", \"Des Moines\", \"Detroit\", \"Downey\", \"Duluth\", \"Durham\", \"El Monte\", \"El Paso\", \"Elizabeth\", \"Elk Grove\", \"Elkhart\", \"Erie\", \"Escondido\", \"Eugene\", \"Evansville\", \"Fairfield\", \"Fargo\", \"Fayetteville\", \"Fitchburg\", \"Flint\", \"Fontana\", \"Fort Collins\", \"Fort Lauderdale\", \"Fort Smith\", \"Fort Walton Beach\", \"Fort Wayne\", \"Fort Worth\", \"Frederick\", \"Fremont\", \"Fresno\", \"Fullerton\", \"Gainesville\", \"Garden Grove\", \"Garland\", \"Gastonia\", \"Gilbert\", \"Glendale\", \"Grand Prairie\", \"Grand Rapids\", \"Grayslake\", \"Green Bay\", \"GreenBay\", \"Greensboro\", \"Greenville\", \"Gulfport-Biloxi\", \"Hagerstown\", \"Hampton\", \"Harlingen\", \"Harrisburg\", \"Hartford\", \"Havre de Grace\", \"Hayward\", \"Hemet\", \"Henderson\", \"Hesperia\", \"Hialeah\", \"Hickory\", \"High Point\", \"Hollywood\", \"Honolulu\", \"Houma\", \"Houston\", \"Howell\", \"Huntington\", \"Huntington Beach\", \"Huntsville\", \"Independence\", \"Indianapolis\", \"Inglewood\", \"Irvine\", \"Irving\", \"Jackson\", \"Jacksonville\", \"Jefferson\", \"Jersey City\", \"Johnson City\", \"Joliet\", \"Kailua\", \"Kalamazoo\", \"Kaneohe\", \"Kansas City\", \"Kennewick\", \"Kenosha\", \"Killeen\", \"Kissimmee\", \"Knoxville\", \"Lacey\", \"Lafayette\", \"Lake Charles\", \"Lakeland\", \"Lakewood\", \"Lancaster\", \"Lansing\", \"Laredo\", \"Las Cruces\", \"Las Vegas\", \"Layton\", \"Leominster\", \"Lewisville\", \"Lexington\", \"Lincoln\", \"Little Rock\", \"Long Beach\", \"Lorain\", \"Los Angeles\", \"Louisville\", \"Lowell\", \"Lubbock\", \"Macon\", \"Madison\", \"Manchester\", \"Marina\", \"Marysville\", \"McAllen\", \"McHenry\", \"Medford\", \"Melbourne\", \"Memphis\", \"Merced\", \"Mesa\", \"Mesquite\", \"Miami\", \"Milwaukee\", \"Minneapolis\", \"Miramar\", \"Mission Viejo\", \"Mobile\", \"Modesto\", \"Monroe\", \"Monterey\", \"Montgomery\", \"Moreno Valley\", \"Murfreesboro\", \"Murrieta\", \"Muskegon\", \"Myrtle Beach\", \"Naperville\", \"Naples\", \"Nashua\", \"Nashville\", \"New Bedford\", \"New Haven\", \"New London\", \"New Orleans\", \"New York\", \"New York City\", \"Newark\", \"Newburgh\", \"Newport News\", \"Norfolk\", \"Normal\", \"Norman\", \"North Charleston\", \"North Las Vegas\", \"North Port\", \"Norwalk\", \"Norwich\", \"Oakland\", \"Ocala\", \"Oceanside\", \"Odessa\", \"Ogden\", \"Oklahoma City\", \"Olathe\", \"Olympia\", \"Omaha\", \"Ontario\", \"Orange\", \"Orem\", \"Orlando\", \"Overland Park\", \"Oxnard\", \"Palm Bay\", \"Palm Springs\", \"Palmdale\", \"Panama City\", \"Pasadena\", \"Paterson\", \"Pembroke Pines\", \"Pensacola\", \"Peoria\", \"Philadelphia\", \"Phoenix\", \"Pittsburgh\", \"Plano\", \"Pomona\", \"Pompano Beach\", \"Port Arthur\", \"Port Orange\", \"Port Saint Lucie\", \"Port St. Lucie\", \"Portland\", \"Portsmouth\", \"Poughkeepsie\", \"Providence\", \"Provo\", \"Pueblo\", \"Punta Gorda\", \"Racine\", \"Raleigh\", \"Rancho Cucamonga\", \"Reading\", \"Redding\", \"Reno\", \"Richland\", \"Richmond\", \"Richmond County\", \"Riverside\", \"Roanoke\", \"Rochester\", \"Rockford\", \"Roseville\", \"Round Lake Beach\", \"Sacramento\", \"Saginaw\", \"Saint Louis\", \"Saint Paul\", \"Saint Petersburg\", \"Salem\", \"Salinas\", \"Salt Lake City\", \"San Antonio\", \"San Bernardino\", \"San Buenaventura\", \"San Diego\", \"San Francisco\", \"San Jose\", \"Santa Ana\", \"Santa Barbara\", \"Santa Clara\", \"Santa Clarita\", \"Santa Cruz\", \"Santa Maria\", \"Santa Rosa\", \"Sarasota\", \"Savannah\", \"Scottsdale\", \"Scranton\", \"Seaside\", \"Seattle\", \"Sebastian\", \"Shreveport\", \"Simi Valley\", \"Sioux City\", \"Sioux Falls\", \"South Bend\", \"South Lyon\", \"Spartanburg\", \"Spokane\", \"Springdale\", \"Springfield\", \"St. Louis\", \"St. Paul\", \"St. Petersburg\", \"Stamford\", \"Sterling Heights\", \"Stockton\", \"Sunnyvale\", \"Syracuse\", \"Tacoma\", \"Tallahassee\", \"Tampa\", \"Temecula\", \"Tempe\", \"Thornton\", \"Thousand Oaks\", \"Toledo\", \"Topeka\", \"Torrance\", \"Trenton\", \"Tucson\", \"Tulsa\", \"Tuscaloosa\", \"Tyler\", \"Utica\", \"Vallejo\", \"Vancouver\", \"Vero Beach\", \"Victorville\", \"Virginia Beach\", \"Visalia\", \"Waco\", \"Warren\", \"Washington\", \"Waterbury\", \"Waterloo\", \"West Covina\", \"West Valley City\", \"Westminster\", \"Wichita\", \n",
    "             \"Wilmington\", \"Winston\", \"Winter Haven\", \"Worcester\", \"Yakima\", \"Yonkers\", \"York\", \"Youngstown\",\n",
    "       \"Alaska\", \"Alabama\", \"Arkansas\", \"American Samoa\", \"Arizona\", \"California\", \"Colorado\", \"Connecticut\", \"District \", \"of Columbia\", \"Delaware\", \"Florida\", \"Georgia\", \"Guam\", \"Hawaii\", \"Iowa\", \"Idaho\", \"Illinois\", \"Indiana\", \"Kansas\", \"Kentucky\", \"Louisiana\", \"Massachusetts\", \"Maryland\", \"Maine\", \"Michigan\", \"Minnesota\", \"Missouri\", \"Mississippi\", \"Montana\", \"North Carolina\", \"North Dakota\", \"Nebraska\", \"New Hampshire\", \"New Jersey\", \"New Mexico\", \"Nevada\", \"New York\", \"Ohio\", \"Oklahoma\", \"Oregon\", \"Pennsylvania\", \"Puerto Rico\", \"Rhode Island\", \"South Carolina\", \"South Dakota\", \"Tennessee\", \"Texas\", \"Utah\", \"Virginia\", \"Virgin Islands\", \"Vermont\", \"Washington\", \"Wisconsin\", \"West Virginia\", \"Wyoming\"]\n",
    "\n",
    "usa_st='|'.join([c for c in usa])\n",
    "\n",
    "\n",
    "twitter_df5_loc=twitter_df5_loc\\\n",
    ".withColumn('usa',\\\n",
    "            when(twitter_df5_loc['account_location'].rlike(usa_st), 'United States')\\\n",
    "            .otherwise(None))\n",
    "\n",
    "twitter_df5_loc.limit(10)"
   ]
  },
  {
   "cell_type": "code",
   "execution_count": 17,
   "id": "5214ab45-2dec-4f88-95c1-9e494278401e",
   "metadata": {},
   "outputs": [
    {
     "name": "stderr",
     "output_type": "stream",
     "text": [
      "                                                                                \r"
     ]
    },
    {
     "data": {
      "text/html": [
       "<table border='1'>\n",
       "<tr><th>id</th><th>tweet_type</th><th>account_name</th><th>account_location</th><th>country</th><th>usa</th><th>country_final</th></tr>\n",
       "<tr><td>1566378682318462976</td><td>retweet</td><td>erin_gilbey</td><td>Birmingham, England</td><td>null</td><td>United States</td><td>United States</td></tr>\n",
       "<tr><td>1566378688698097664</td><td>retweet</td><td>Odeshiye</td><td>Ghana</td><td>Ghana</td><td>null</td><td>Ghana</td></tr>\n",
       "<tr><td>1566378715709427719</td><td>retweet</td><td>EuroAmerican87</td><td>Anywhere but here...</td><td>null</td><td>United States</td><td>United States</td></tr>\n",
       "<tr><td>1566378716887916546</td><td>retweet</td><td>Bharath12450842</td><td>null</td><td>null</td><td>null</td><td>null</td></tr>\n",
       "<tr><td>1566378724135555072</td><td>retweet</td><td>lvchdvmp</td><td>archen&#x27;s heart</td><td>null</td><td>null</td><td>null</td></tr>\n",
       "<tr><td>1566378734529101824</td><td>retweet</td><td>doyiea_</td><td>null</td><td>null</td><td>null</td><td>null</td></tr>\n",
       "<tr><td>1566378741508734976</td><td>reply</td><td>thxteacher</td><td>null</td><td>null</td><td>null</td><td>null</td></tr>\n",
       "<tr><td>1566378743710744576</td><td>retweet</td><td>shoaibAlam28</td><td>Jamui, India</td><td>India</td><td>null</td><td>India</td></tr>\n",
       "<tr><td>1566378745539469312</td><td>quote</td><td>PaperupPh</td><td>10AM-10PM</td><td>null</td><td>null</td><td>null</td></tr>\n",
       "<tr><td>1566378750090027008</td><td>retweet</td><td>ResisterNell</td><td>Kentucky </td><td>null</td><td>United States</td><td>United States</td></tr>\n",
       "</table>\n"
      ],
      "text/plain": [
       "+-------------------+--------------+---------------+--------------------+-------+-------------+-------------+\n",
       "|                 id|    tweet_type|   account_name|    account_location|country|          usa|country_final|\n",
       "+-------------------+--------------+---------------+--------------------+-------+-------------+-------------+\n",
       "|1598348248733089794|       retweet|Mohamma61323270|🌍All over the pl...|   null|         null|         null|\n",
       "|1598348256609697792|         reply|          japv1|                null|   null|         null|         null|\n",
       "|1598348267208728576|       retweet|    ORPHEUSGIRL|                null|   null|         null|         null|\n",
       "|1598348272954925057|       retweet|   MISSmatched_|                null|   null|         null|         null|\n",
       "|1598348274100244480|       retweet|         BKS135|               India|  India|         null|        India|\n",
       "|1598348274817433600|original_tweet|    IcyPotato03|                null|   null|         null|         null|\n",
       "|1598348280571772929|       retweet| preciouslife_2|      Twilight zone |   null|         null|         null|\n",
       "|1598348283176427520|       retweet|  mayaleiladora|          Boston, MA|   null|United States|United States|\n",
       "|1598348290093109248|         reply|    jigglepuddz|                null|   null|         null|         null|\n",
       "|1598348291623866374|         reply|LawrenceLinehan|1100-year-old cou...|   null|         null|         null|\n",
       "+-------------------+--------------+---------------+--------------------+-------+-------------+-------------+"
      ]
     },
     "execution_count": 17,
     "metadata": {},
     "output_type": "execute_result"
    }
   ],
   "source": [
    "twitter_df5_loc = twitter_df5_loc\\\n",
    ".withColumn('country_final',\\\n",
    "            when(twitter_df5_loc['country']!='null',twitter_df5_loc['country'])\\\n",
    "            .when(twitter_df5_loc['usa']!='null',twitter_df5_loc['usa'])\\\n",
    "            .otherwise(None))\n",
    "\n",
    "twitter_df5_loc.limit(10)"
   ]
  },
  {
   "cell_type": "code",
   "execution_count": 20,
   "id": "67731bbc-1344-4f2e-b09b-db9e376ca67d",
   "metadata": {},
   "outputs": [
    {
     "name": "stderr",
     "output_type": "stream",
     "text": [
      "                                                                                \r"
     ]
    },
    {
     "data": {
      "text/html": [
       "<table border='1'>\n",
       "<tr><th>id</th><th>tweet_type</th><th>account_name</th><th>account_location</th><th>country</th><th>usa</th><th>country_final</th></tr>\n",
       "<tr><td>1566378788845506560</td><td>original_tweet</td><td>BabichZarzycka</td><td>Wrocław, Polska</td><td>null</td><td>null</td><td>null</td></tr>\n",
       "<tr><td>1566378804402323458</td><td>original_tweet</td><td>aqeeltweet</td><td>Gulbarga, India</td><td>India</td><td>null</td><td>India</td></tr>\n",
       "<tr><td>1566378865068498947</td><td>original_tweet</td><td>fahmiswag</td><td>المملكة العربية ا...</td><td>null</td><td>null</td><td>null</td></tr>\n",
       "<tr><td>1566379116017901568</td><td>original_tweet</td><td>EssayPaperUK</td><td>Long Beach, CA</td><td>null</td><td>United States</td><td>United States</td></tr>\n",
       "<tr><td>1566379138956423169</td><td>original_tweet</td><td>usualsy</td><td>6 ongoings</td><td>null</td><td>null</td><td>null</td></tr>\n",
       "<tr><td>1566379279440650240</td><td>original_tweet</td><td>OlumoRocktv</td><td>Ireland</td><td>Ireland</td><td>null</td><td>Ireland</td></tr>\n",
       "<tr><td>1566379420201410560</td><td>original_tweet</td><td>getthatrightgtr</td><td>Global</td><td>null</td><td>null</td><td>null</td></tr>\n",
       "<tr><td>1566379426945835009</td><td>original_tweet</td><td>suppiluliumass</td><td>null</td><td>null</td><td>null</td><td>null</td></tr>\n",
       "<tr><td>1566379643413880837</td><td>original_tweet</td><td>ShaikhaBinjasim</td><td>Kuwait</td><td>Kuwait</td><td>null</td><td>Kuwait</td></tr>\n",
       "<tr><td>1566379715438321666</td><td>original_tweet</td><td>gotsvnteen</td><td>exo got7 svt ts</td><td>null</td><td>null</td><td>null</td></tr>\n",
       "</table>\n"
      ],
      "text/plain": [
       "+-------------------+--------------+---------------+--------------------+-------+-------------+-------------+\n",
       "|                 id|    tweet_type|   account_name|    account_location|country|          usa|country_final|\n",
       "+-------------------+--------------+---------------+--------------------+-------+-------------+-------------+\n",
       "|1566378788845506560|original_tweet| BabichZarzycka|     Wrocław, Polska|   null|         null|         null|\n",
       "|1566378804402323458|original_tweet|     aqeeltweet|     Gulbarga, India|  India|         null|        India|\n",
       "|1566378865068498947|original_tweet|      fahmiswag|المملكة العربية ا...|   null|         null|         null|\n",
       "|1566379116017901568|original_tweet|   EssayPaperUK|      Long Beach, CA|   null|United States|United States|\n",
       "|1566379138956423169|original_tweet|        usualsy|          6 ongoings|   null|         null|         null|\n",
       "|1566379279440650240|original_tweet|    OlumoRocktv|             Ireland|Ireland|         null|      Ireland|\n",
       "|1566379420201410560|original_tweet|getthatrightgtr|              Global|   null|         null|         null|\n",
       "|1566379426945835009|original_tweet| suppiluliumass|                null|   null|         null|         null|\n",
       "|1566379643413880837|original_tweet|ShaikhaBinjasim|              Kuwait| Kuwait|         null|       Kuwait|\n",
       "|1566379715438321666|original_tweet|     gotsvnteen|     exo got7 svt ts|   null|         null|         null|\n",
       "+-------------------+--------------+---------------+--------------------+-------+-------------+-------------+"
      ]
     },
     "execution_count": 20,
     "metadata": {},
     "output_type": "execute_result"
    }
   ],
   "source": [
    "twitter_df5_loc_orig=twitter_df5_loc.filter(col('tweet_type')=='original_tweet')\n",
    "twitter_df5_loc_orig.limit(10)"
   ]
  },
  {
   "cell_type": "code",
   "execution_count": 22,
   "id": "e2f264f0-72a2-4085-949d-114c3c24acc9",
   "metadata": {},
   "outputs": [
    {
     "name": "stderr",
     "output_type": "stream",
     "text": [
      "                                                                                \r"
     ]
    }
   ],
   "source": [
    "twitter_df5_loc_orig_usa=twitter_df5_loc_orig.filter(col('country_final')=='United States')\n",
    "tweeters_usa=twitter_df5_loc_orig_usa.select('account_name','country_final').groupBy('account_name','country_final').count().orderBy('count',ascending=False).limit(10).toPandas()\n"
   ]
  },
  {
   "cell_type": "code",
   "execution_count": 23,
   "id": "dd26ad70-c16b-481e-a6f0-792a9bcc8101",
   "metadata": {},
   "outputs": [
    {
     "data": {
      "text/html": [
       "<div>\n",
       "<style scoped>\n",
       "    .dataframe tbody tr th:only-of-type {\n",
       "        vertical-align: middle;\n",
       "    }\n",
       "\n",
       "    .dataframe tbody tr th {\n",
       "        vertical-align: top;\n",
       "    }\n",
       "\n",
       "    .dataframe thead th {\n",
       "        text-align: right;\n",
       "    }\n",
       "</style>\n",
       "<table border=\"1\" class=\"dataframe\">\n",
       "  <thead>\n",
       "    <tr style=\"text-align: right;\">\n",
       "      <th></th>\n",
       "      <th>account_name</th>\n",
       "      <th>country_final</th>\n",
       "      <th>count</th>\n",
       "    </tr>\n",
       "  </thead>\n",
       "  <tbody>\n",
       "    <tr>\n",
       "      <th>0</th>\n",
       "      <td>group_kq</td>\n",
       "      <td>United States</td>\n",
       "      <td>4092</td>\n",
       "    </tr>\n",
       "    <tr>\n",
       "      <th>1</th>\n",
       "      <td>DennisStemmle</td>\n",
       "      <td>United States</td>\n",
       "      <td>2676</td>\n",
       "    </tr>\n",
       "    <tr>\n",
       "      <th>2</th>\n",
       "      <td>dealsoftakis</td>\n",
       "      <td>United States</td>\n",
       "      <td>2475</td>\n",
       "    </tr>\n",
       "    <tr>\n",
       "      <th>3</th>\n",
       "      <td>Rdene915</td>\n",
       "      <td>United States</td>\n",
       "      <td>1554</td>\n",
       "    </tr>\n",
       "    <tr>\n",
       "      <th>4</th>\n",
       "      <td>abook_and_bev</td>\n",
       "      <td>United States</td>\n",
       "      <td>1384</td>\n",
       "    </tr>\n",
       "    <tr>\n",
       "      <th>5</th>\n",
       "      <td>usasharenews</td>\n",
       "      <td>United States</td>\n",
       "      <td>1335</td>\n",
       "    </tr>\n",
       "    <tr>\n",
       "      <th>6</th>\n",
       "      <td>KandusDakus</td>\n",
       "      <td>United States</td>\n",
       "      <td>1322</td>\n",
       "    </tr>\n",
       "    <tr>\n",
       "      <th>7</th>\n",
       "      <td>InHomeTutor808</td>\n",
       "      <td>United States</td>\n",
       "      <td>1127</td>\n",
       "    </tr>\n",
       "    <tr>\n",
       "      <th>8</th>\n",
       "      <td>Bgm117771</td>\n",
       "      <td>United States</td>\n",
       "      <td>990</td>\n",
       "    </tr>\n",
       "    <tr>\n",
       "      <th>9</th>\n",
       "      <td>sux4_ever</td>\n",
       "      <td>United States</td>\n",
       "      <td>932</td>\n",
       "    </tr>\n",
       "  </tbody>\n",
       "</table>\n",
       "</div>"
      ],
      "text/plain": [
       "     account_name  country_final  count\n",
       "0        group_kq  United States   4092\n",
       "1   DennisStemmle  United States   2676\n",
       "2    dealsoftakis  United States   2475\n",
       "3        Rdene915  United States   1554\n",
       "4   abook_and_bev  United States   1384\n",
       "5    usasharenews  United States   1335\n",
       "6     KandusDakus  United States   1322\n",
       "7  InHomeTutor808  United States   1127\n",
       "8       Bgm117771  United States    990\n",
       "9       sux4_ever  United States    932"
      ]
     },
     "execution_count": 23,
     "metadata": {},
     "output_type": "execute_result"
    }
   ],
   "source": [
    "tweeters_usa.head(10)"
   ]
  },
  {
   "cell_type": "code",
   "execution_count": 24,
   "id": "849554de-0138-4925-a12e-97e754f8daa7",
   "metadata": {},
   "outputs": [
    {
     "name": "stderr",
     "output_type": "stream",
     "text": [
      "                                                                                \r"
     ]
    },
    {
     "data": {
      "text/html": [
       "<div>\n",
       "<style scoped>\n",
       "    .dataframe tbody tr th:only-of-type {\n",
       "        vertical-align: middle;\n",
       "    }\n",
       "\n",
       "    .dataframe tbody tr th {\n",
       "        vertical-align: top;\n",
       "    }\n",
       "\n",
       "    .dataframe thead th {\n",
       "        text-align: right;\n",
       "    }\n",
       "</style>\n",
       "<table border=\"1\" class=\"dataframe\">\n",
       "  <thead>\n",
       "    <tr style=\"text-align: right;\">\n",
       "      <th></th>\n",
       "      <th>account_name</th>\n",
       "      <th>country_final</th>\n",
       "      <th>count</th>\n",
       "    </tr>\n",
       "  </thead>\n",
       "  <tbody>\n",
       "    <tr>\n",
       "      <th>0</th>\n",
       "      <td>angieshandmade1</td>\n",
       "      <td>India</td>\n",
       "      <td>555</td>\n",
       "    </tr>\n",
       "    <tr>\n",
       "      <th>1</th>\n",
       "      <td>malpani</td>\n",
       "      <td>India</td>\n",
       "      <td>411</td>\n",
       "    </tr>\n",
       "    <tr>\n",
       "      <th>2</th>\n",
       "      <td>PophaleSamarth</td>\n",
       "      <td>India</td>\n",
       "      <td>378</td>\n",
       "    </tr>\n",
       "    <tr>\n",
       "      <th>3</th>\n",
       "      <td>school_finds</td>\n",
       "      <td>India</td>\n",
       "      <td>367</td>\n",
       "    </tr>\n",
       "    <tr>\n",
       "      <th>4</th>\n",
       "      <td>sirimahanthesh</td>\n",
       "      <td>India</td>\n",
       "      <td>365</td>\n",
       "    </tr>\n",
       "    <tr>\n",
       "      <th>5</th>\n",
       "      <td>shubhambagde00</td>\n",
       "      <td>India</td>\n",
       "      <td>351</td>\n",
       "    </tr>\n",
       "    <tr>\n",
       "      <th>6</th>\n",
       "      <td>htTweets</td>\n",
       "      <td>India</td>\n",
       "      <td>338</td>\n",
       "    </tr>\n",
       "    <tr>\n",
       "      <th>7</th>\n",
       "      <td>Granthshalaind</td>\n",
       "      <td>India</td>\n",
       "      <td>299</td>\n",
       "    </tr>\n",
       "    <tr>\n",
       "      <th>8</th>\n",
       "      <td>indcareer</td>\n",
       "      <td>India</td>\n",
       "      <td>285</td>\n",
       "    </tr>\n",
       "    <tr>\n",
       "      <th>9</th>\n",
       "      <td>sameepshastri</td>\n",
       "      <td>India</td>\n",
       "      <td>243</td>\n",
       "    </tr>\n",
       "  </tbody>\n",
       "</table>\n",
       "</div>"
      ],
      "text/plain": [
       "      account_name country_final  count\n",
       "0  angieshandmade1         India    555\n",
       "1          malpani         India    411\n",
       "2   PophaleSamarth         India    378\n",
       "3     school_finds         India    367\n",
       "4   sirimahanthesh         India    365\n",
       "5   shubhambagde00         India    351\n",
       "6         htTweets         India    338\n",
       "7   Granthshalaind         India    299\n",
       "8        indcareer         India    285\n",
       "9    sameepshastri         India    243"
      ]
     },
     "execution_count": 24,
     "metadata": {},
     "output_type": "execute_result"
    }
   ],
   "source": [
    "twitter_df5_loc_orig_ind=twitter_df5_loc_orig.filter(col('country_final')=='India')\n",
    "tweeters_ind=twitter_df5_loc_orig_ind.select('account_name','country_final').groupBy('account_name','country_final').count().orderBy('count',ascending=False).limit(10).toPandas()\n",
    "tweeters_ind.head(10)"
   ]
  },
  {
   "cell_type": "code",
   "execution_count": 25,
   "id": "572ea0a2-06a9-4bb2-bb23-71d4afb1b475",
   "metadata": {},
   "outputs": [
    {
     "name": "stderr",
     "output_type": "stream",
     "text": [
      "                                                                                \r"
     ]
    },
    {
     "data": {
      "text/html": [
       "<div>\n",
       "<style scoped>\n",
       "    .dataframe tbody tr th:only-of-type {\n",
       "        vertical-align: middle;\n",
       "    }\n",
       "\n",
       "    .dataframe tbody tr th {\n",
       "        vertical-align: top;\n",
       "    }\n",
       "\n",
       "    .dataframe thead th {\n",
       "        text-align: right;\n",
       "    }\n",
       "</style>\n",
       "<table border=\"1\" class=\"dataframe\">\n",
       "  <thead>\n",
       "    <tr style=\"text-align: right;\">\n",
       "      <th></th>\n",
       "      <th>account_name</th>\n",
       "      <th>country_final</th>\n",
       "      <th>count</th>\n",
       "    </tr>\n",
       "  </thead>\n",
       "  <tbody>\n",
       "    <tr>\n",
       "      <th>0</th>\n",
       "      <td>angieshandmade1</td>\n",
       "      <td>India</td>\n",
       "      <td>555</td>\n",
       "    </tr>\n",
       "    <tr>\n",
       "      <th>1</th>\n",
       "      <td>malpani</td>\n",
       "      <td>India</td>\n",
       "      <td>411</td>\n",
       "    </tr>\n",
       "    <tr>\n",
       "      <th>2</th>\n",
       "      <td>PophaleSamarth</td>\n",
       "      <td>India</td>\n",
       "      <td>378</td>\n",
       "    </tr>\n",
       "    <tr>\n",
       "      <th>3</th>\n",
       "      <td>school_finds</td>\n",
       "      <td>India</td>\n",
       "      <td>367</td>\n",
       "    </tr>\n",
       "    <tr>\n",
       "      <th>4</th>\n",
       "      <td>sirimahanthesh</td>\n",
       "      <td>India</td>\n",
       "      <td>365</td>\n",
       "    </tr>\n",
       "    <tr>\n",
       "      <th>5</th>\n",
       "      <td>shubhambagde00</td>\n",
       "      <td>India</td>\n",
       "      <td>351</td>\n",
       "    </tr>\n",
       "    <tr>\n",
       "      <th>6</th>\n",
       "      <td>htTweets</td>\n",
       "      <td>India</td>\n",
       "      <td>338</td>\n",
       "    </tr>\n",
       "    <tr>\n",
       "      <th>7</th>\n",
       "      <td>Granthshalaind</td>\n",
       "      <td>India</td>\n",
       "      <td>299</td>\n",
       "    </tr>\n",
       "    <tr>\n",
       "      <th>8</th>\n",
       "      <td>indcareer</td>\n",
       "      <td>India</td>\n",
       "      <td>285</td>\n",
       "    </tr>\n",
       "    <tr>\n",
       "      <th>9</th>\n",
       "      <td>sameepshastri</td>\n",
       "      <td>India</td>\n",
       "      <td>243</td>\n",
       "    </tr>\n",
       "  </tbody>\n",
       "</table>\n",
       "</div>"
      ],
      "text/plain": [
       "      account_name country_final  count\n",
       "0  angieshandmade1         India    555\n",
       "1          malpani         India    411\n",
       "2   PophaleSamarth         India    378\n",
       "3     school_finds         India    367\n",
       "4   sirimahanthesh         India    365\n",
       "5   shubhambagde00         India    351\n",
       "6         htTweets         India    338\n",
       "7   Granthshalaind         India    299\n",
       "8        indcareer         India    285\n",
       "9    sameepshastri         India    243"
      ]
     },
     "execution_count": 25,
     "metadata": {},
     "output_type": "execute_result"
    }
   ],
   "source": [
    "twitter_df5_loc_orig_nig=twitter_df5_loc_orig.filter(col('country_final')=='Niger')\n",
    "tweeters_nig=twitter_df5_loc_orig_nig.select('account_name','country_final').groupBy('account_name','country_final').count().orderBy('count',ascending=False).limit(10).toPandas()\n"
   ]
  },
  {
   "cell_type": "code",
   "execution_count": 26,
   "id": "fc679558-b91d-4da6-b8d3-7c4904ae05c4",
   "metadata": {},
   "outputs": [
    {
     "data": {
      "text/html": [
       "<div>\n",
       "<style scoped>\n",
       "    .dataframe tbody tr th:only-of-type {\n",
       "        vertical-align: middle;\n",
       "    }\n",
       "\n",
       "    .dataframe tbody tr th {\n",
       "        vertical-align: top;\n",
       "    }\n",
       "\n",
       "    .dataframe thead th {\n",
       "        text-align: right;\n",
       "    }\n",
       "</style>\n",
       "<table border=\"1\" class=\"dataframe\">\n",
       "  <thead>\n",
       "    <tr style=\"text-align: right;\">\n",
       "      <th></th>\n",
       "      <th>account_name</th>\n",
       "      <th>country_final</th>\n",
       "      <th>count</th>\n",
       "    </tr>\n",
       "  </thead>\n",
       "  <tbody>\n",
       "    <tr>\n",
       "      <th>0</th>\n",
       "      <td>studyinnaija</td>\n",
       "      <td>Niger</td>\n",
       "      <td>5149</td>\n",
       "    </tr>\n",
       "    <tr>\n",
       "      <th>1</th>\n",
       "      <td>GraceSmartsBlog</td>\n",
       "      <td>Niger</td>\n",
       "      <td>575</td>\n",
       "    </tr>\n",
       "    <tr>\n",
       "      <th>2</th>\n",
       "      <td>StrawberryNG</td>\n",
       "      <td>Niger</td>\n",
       "      <td>403</td>\n",
       "    </tr>\n",
       "    <tr>\n",
       "      <th>3</th>\n",
       "      <td>myschoolnewstv</td>\n",
       "      <td>Niger</td>\n",
       "      <td>331</td>\n",
       "    </tr>\n",
       "    <tr>\n",
       "      <th>4</th>\n",
       "      <td>realminablog</td>\n",
       "      <td>Niger</td>\n",
       "      <td>331</td>\n",
       "    </tr>\n",
       "    <tr>\n",
       "      <th>5</th>\n",
       "      <td>PelMedic</td>\n",
       "      <td>Niger</td>\n",
       "      <td>254</td>\n",
       "    </tr>\n",
       "    <tr>\n",
       "      <th>6</th>\n",
       "      <td>ThomasEAbiodun</td>\n",
       "      <td>Niger</td>\n",
       "      <td>229</td>\n",
       "    </tr>\n",
       "    <tr>\n",
       "      <th>7</th>\n",
       "      <td>MyJobMag</td>\n",
       "      <td>Niger</td>\n",
       "      <td>177</td>\n",
       "    </tr>\n",
       "    <tr>\n",
       "      <th>8</th>\n",
       "      <td>9jajobinfo</td>\n",
       "      <td>Niger</td>\n",
       "      <td>172</td>\n",
       "    </tr>\n",
       "    <tr>\n",
       "      <th>9</th>\n",
       "      <td>updatefly</td>\n",
       "      <td>Niger</td>\n",
       "      <td>171</td>\n",
       "    </tr>\n",
       "  </tbody>\n",
       "</table>\n",
       "</div>"
      ],
      "text/plain": [
       "      account_name country_final  count\n",
       "0     studyinnaija         Niger   5149\n",
       "1  GraceSmartsBlog         Niger    575\n",
       "2     StrawberryNG         Niger    403\n",
       "3   myschoolnewstv         Niger    331\n",
       "4     realminablog         Niger    331\n",
       "5         PelMedic         Niger    254\n",
       "6   ThomasEAbiodun         Niger    229\n",
       "7         MyJobMag         Niger    177\n",
       "8       9jajobinfo         Niger    172\n",
       "9        updatefly         Niger    171"
      ]
     },
     "execution_count": 26,
     "metadata": {},
     "output_type": "execute_result"
    }
   ],
   "source": [
    "tweeters_nig.head(10)"
   ]
  }
 ],
 "metadata": {
  "kernelspec": {
   "display_name": "Python 3 (ipykernel)",
   "language": "python",
   "name": "python3"
  },
  "language_info": {
   "codemirror_mode": {
    "name": "ipython",
    "version": 3
   },
   "file_extension": ".py",
   "mimetype": "text/x-python",
   "name": "python",
   "nbconvert_exporter": "python",
   "pygments_lexer": "ipython3",
   "version": "3.9.12"
  }
 },
 "nbformat": 4,
 "nbformat_minor": 5
}
